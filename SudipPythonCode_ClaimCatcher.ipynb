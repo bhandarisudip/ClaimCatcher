{
 "cells": [
  {
   "cell_type": "markdown",
   "metadata": {},
   "source": [
    "# Jupyter notebook for Curacel\n",
    "\n",
    "#Consulting project by Sudip Bhandari (Insight health data science fellow, October 2020). \n",
    "\n",
    "Goals: \n",
    "#(1) Develop a classification model to identify fraudulent claims. \n",
    "#(2) Develop a regression model to adjust costs for claims that need adjustment."
   ]
  },
  {
   "cell_type": "markdown",
   "metadata": {},
   "source": [
    "## Table of contents\n",
    "#A. Data importing and wrangling\n",
    "#B. Classification models\n",
    "#C. Cost Adjustment models"
   ]
  },
  {
   "cell_type": "markdown",
   "metadata": {},
   "source": [
    "## A. Data importing and wrangling"
   ]
  },
  {
   "cell_type": "code",
   "execution_count": 68,
   "metadata": {},
   "outputs": [],
   "source": [
    "#Import libraries\n",
    "import pandas as pd\n",
    "import matplotlib.pyplot as plt\n",
    "%matplotlib inline\n",
    "import seaborn as sns\n",
    "import numpy as np\n",
    "\n",
    "from sklearn.model_selection import train_test_split\n",
    "from sklearn.metrics import confusion_matrix,f1_score,roc_auc_score,roc_curve\n",
    "\n",
    "from sklearn.ensemble import RandomForestClassifier\n",
    "from sklearn.metrics import classification_report, confusion_matrix\n",
    "from sklearn.metrics import ConfusionMatrixDisplay\n",
    "from sklearn.metrics import plot_confusion_matrix"
   ]
  },
  {
   "cell_type": "code",
   "execution_count": 71,
   "metadata": {},
   "outputs": [],
   "source": [
    "#Import dataset\n",
    "df = pd.read_csv(\"ClaimsExcel.csv\")"
   ]
  },
  {
   "cell_type": "code",
   "execution_count": 72,
   "metadata": {},
   "outputs": [],
   "source": [
    "pd.set_option('display.max_columns', 999)"
   ]
  },
  {
   "cell_type": "code",
   "execution_count": 73,
   "metadata": {},
   "outputs": [
    {
     "data": {
      "text/html": [
       "<div>\n",
       "<style scoped>\n",
       "    .dataframe tbody tr th:only-of-type {\n",
       "        vertical-align: middle;\n",
       "    }\n",
       "\n",
       "    .dataframe tbody tr th {\n",
       "        vertical-align: top;\n",
       "    }\n",
       "\n",
       "    .dataframe thead th {\n",
       "        text-align: right;\n",
       "    }\n",
       "</style>\n",
       "<table border=\"1\" class=\"dataframe\">\n",
       "  <thead>\n",
       "    <tr style=\"text-align: right;\">\n",
       "      <th></th>\n",
       "      <th>hmo_id</th>\n",
       "      <th>provider_id</th>\n",
       "      <th>care_id</th>\n",
       "      <th>claim_items_amount</th>\n",
       "      <th>amount</th>\n",
       "      <th>id</th>\n",
       "      <th>j</th>\n",
       "      <th>enrollee_id</th>\n",
       "      <th>total_amount</th>\n",
       "      <th>approved_amount</th>\n",
       "      <th>hmo_status</th>\n",
       "      <th>created_at</th>\n",
       "      <th>claim_items_created_at</th>\n",
       "      <th>claim_items_updated_at</th>\n",
       "      <th>hmo_statusnew</th>\n",
       "      <th>claim_items_id</th>\n",
       "      <th>claim_items_claim_id</th>\n",
       "      <th>claim_items_care_id</th>\n",
       "      <th>claim_items_hmo_approved</th>\n",
       "      <th>claim_items_qty</th>\n",
       "      <th>claim_items_approved_amount</th>\n",
       "      <th>claim_items_approved_qty</th>\n",
       "      <th>claim_items_drug_frequency</th>\n",
       "      <th>claim_items_drug_duration</th>\n",
       "      <th>claim_items_drug_duration_sub</th>\n",
       "      <th>claim_items_tariff_id</th>\n",
       "      <th>diagnoses_id</th>\n",
       "      <th>diagnoses_icd_code</th>\n",
       "      <th>_mergeold</th>\n",
       "      <th>_merge</th>\n",
       "    </tr>\n",
       "  </thead>\n",
       "  <tbody>\n",
       "    <tr>\n",
       "      <th>0</th>\n",
       "      <td>1</td>\n",
       "      <td>1</td>\n",
       "      <td>13</td>\n",
       "      <td>5000.0</td>\n",
       "      <td>5000.0</td>\n",
       "      <td>17</td>\n",
       "      <td>1</td>\n",
       "      <td>41565.0</td>\n",
       "      <td>34671.172</td>\n",
       "      <td>31671.170</td>\n",
       "      <td>1.0</td>\n",
       "      <td>2018-03-16T11:02:58.000000Z</td>\n",
       "      <td>2018-03-16T11:02:58.000000Z | 2018-03-16T11:02...</td>\n",
       "      <td>2018-05-21T10:17:04.000000Z | 2018-05-21T10:17...</td>\n",
       "      <td>0.0</td>\n",
       "      <td>66</td>\n",
       "      <td>17</td>\n",
       "      <td>13</td>\n",
       "      <td>1</td>\n",
       "      <td>1</td>\n",
       "      <td>5000.0</td>\n",
       "      <td>1</td>\n",
       "      <td>NaN</td>\n",
       "      <td>NaN</td>\n",
       "      <td>NaN</td>\n",
       "      <td>NaN</td>\n",
       "      <td>16534.0</td>\n",
       "      <td>H26222</td>\n",
       "      <td>matched (3)</td>\n",
       "      <td>matched (3)</td>\n",
       "    </tr>\n",
       "    <tr>\n",
       "      <th>1</th>\n",
       "      <td>1</td>\n",
       "      <td>1</td>\n",
       "      <td>14</td>\n",
       "      <td>2500.0</td>\n",
       "      <td>2500.0</td>\n",
       "      <td>18</td>\n",
       "      <td>1</td>\n",
       "      <td>101.0</td>\n",
       "      <td>2500.000</td>\n",
       "      <td>2500.000</td>\n",
       "      <td>1.0</td>\n",
       "      <td>2018-03-16T11:05:56.000000Z</td>\n",
       "      <td>2018-03-16T11:05:56.000000Z</td>\n",
       "      <td>2018-05-21T10:17:18.000000Z</td>\n",
       "      <td>0.0</td>\n",
       "      <td>73</td>\n",
       "      <td>18</td>\n",
       "      <td>14</td>\n",
       "      <td>1</td>\n",
       "      <td>1</td>\n",
       "      <td>2500.0</td>\n",
       "      <td>1</td>\n",
       "      <td>NaN</td>\n",
       "      <td>NaN</td>\n",
       "      <td>NaN</td>\n",
       "      <td>NaN</td>\n",
       "      <td>2090.0</td>\n",
       "      <td>NaN</td>\n",
       "      <td>matched (3)</td>\n",
       "      <td>matched (3)</td>\n",
       "    </tr>\n",
       "    <tr>\n",
       "      <th>2</th>\n",
       "      <td>1</td>\n",
       "      <td>1</td>\n",
       "      <td>177</td>\n",
       "      <td>2500.0</td>\n",
       "      <td>2500.0</td>\n",
       "      <td>31</td>\n",
       "      <td>10</td>\n",
       "      <td>41620.0</td>\n",
       "      <td>99071.172</td>\n",
       "      <td>98171.172</td>\n",
       "      <td>1.0</td>\n",
       "      <td>2018-03-22T14:41:38.000000Z</td>\n",
       "      <td>2018-03-22T14:41:38.000000Z | 2018-03-22T14:41...</td>\n",
       "      <td>2018-07-23T14:03:08.000000Z | 2020-04-30T01:48...</td>\n",
       "      <td>0.0</td>\n",
       "      <td>116</td>\n",
       "      <td>31</td>\n",
       "      <td>177</td>\n",
       "      <td>1</td>\n",
       "      <td>1</td>\n",
       "      <td>2500.0</td>\n",
       "      <td>1</td>\n",
       "      <td>NaN</td>\n",
       "      <td>NaN</td>\n",
       "      <td>NaN</td>\n",
       "      <td>NaN</td>\n",
       "      <td>NaN</td>\n",
       "      <td>NaN</td>\n",
       "      <td>matched (3)</td>\n",
       "      <td>matched (3)</td>\n",
       "    </tr>\n",
       "    <tr>\n",
       "      <th>3</th>\n",
       "      <td>1</td>\n",
       "      <td>1</td>\n",
       "      <td>220</td>\n",
       "      <td>300.0</td>\n",
       "      <td>300.0</td>\n",
       "      <td>31</td>\n",
       "      <td>12</td>\n",
       "      <td>41620.0</td>\n",
       "      <td>99071.172</td>\n",
       "      <td>98171.172</td>\n",
       "      <td>1.0</td>\n",
       "      <td>2018-03-22T14:41:38.000000Z</td>\n",
       "      <td>2018-03-22T14:41:38.000000Z | 2018-03-22T14:41...</td>\n",
       "      <td>2018-07-23T14:03:08.000000Z | 2020-04-30T01:48...</td>\n",
       "      <td>0.0</td>\n",
       "      <td>118</td>\n",
       "      <td>31</td>\n",
       "      <td>220</td>\n",
       "      <td>1</td>\n",
       "      <td>1</td>\n",
       "      <td>0.0</td>\n",
       "      <td>1</td>\n",
       "      <td>NaN</td>\n",
       "      <td>NaN</td>\n",
       "      <td>NaN</td>\n",
       "      <td>NaN</td>\n",
       "      <td>NaN</td>\n",
       "      <td>NaN</td>\n",
       "      <td>matched (3)</td>\n",
       "      <td>matched (3)</td>\n",
       "    </tr>\n",
       "    <tr>\n",
       "      <th>4</th>\n",
       "      <td>1</td>\n",
       "      <td>1</td>\n",
       "      <td>274</td>\n",
       "      <td>1500.0</td>\n",
       "      <td>1500.0</td>\n",
       "      <td>31</td>\n",
       "      <td>11</td>\n",
       "      <td>41620.0</td>\n",
       "      <td>99071.172</td>\n",
       "      <td>98171.172</td>\n",
       "      <td>1.0</td>\n",
       "      <td>2018-03-22T14:41:38.000000Z</td>\n",
       "      <td>2018-03-22T14:41:38.000000Z | 2018-03-22T14:41...</td>\n",
       "      <td>2018-07-23T14:03:08.000000Z | 2020-04-30T01:48...</td>\n",
       "      <td>0.0</td>\n",
       "      <td>117</td>\n",
       "      <td>31</td>\n",
       "      <td>274</td>\n",
       "      <td>1</td>\n",
       "      <td>1</td>\n",
       "      <td>1500.0</td>\n",
       "      <td>1</td>\n",
       "      <td>NaN</td>\n",
       "      <td>NaN</td>\n",
       "      <td>NaN</td>\n",
       "      <td>NaN</td>\n",
       "      <td>NaN</td>\n",
       "      <td>NaN</td>\n",
       "      <td>matched (3)</td>\n",
       "      <td>matched (3)</td>\n",
       "    </tr>\n",
       "    <tr>\n",
       "      <th>...</th>\n",
       "      <td>...</td>\n",
       "      <td>...</td>\n",
       "      <td>...</td>\n",
       "      <td>...</td>\n",
       "      <td>...</td>\n",
       "      <td>...</td>\n",
       "      <td>...</td>\n",
       "      <td>...</td>\n",
       "      <td>...</td>\n",
       "      <td>...</td>\n",
       "      <td>...</td>\n",
       "      <td>...</td>\n",
       "      <td>...</td>\n",
       "      <td>...</td>\n",
       "      <td>...</td>\n",
       "      <td>...</td>\n",
       "      <td>...</td>\n",
       "      <td>...</td>\n",
       "      <td>...</td>\n",
       "      <td>...</td>\n",
       "      <td>...</td>\n",
       "      <td>...</td>\n",
       "      <td>...</td>\n",
       "      <td>...</td>\n",
       "      <td>...</td>\n",
       "      <td>...</td>\n",
       "      <td>...</td>\n",
       "      <td>...</td>\n",
       "      <td>...</td>\n",
       "      <td>...</td>\n",
       "    </tr>\n",
       "    <tr>\n",
       "      <th>330188</th>\n",
       "      <td>5</td>\n",
       "      <td>475</td>\n",
       "      <td>75952</td>\n",
       "      <td>1200.0</td>\n",
       "      <td>NaN</td>\n",
       "      <td>71003</td>\n",
       "      <td>3</td>\n",
       "      <td>151876.0</td>\n",
       "      <td>7060.000</td>\n",
       "      <td>2480.000</td>\n",
       "      <td>1.0</td>\n",
       "      <td>2020-03-16T10:33:31.000000Z</td>\n",
       "      <td>2020-03-16T10:33:31.000000Z | 2020-03-16T10:33...</td>\n",
       "      <td>2020-05-16T18:28:03.000000Z | 2020-05-16T18:28...</td>\n",
       "      <td>0.0</td>\n",
       "      <td>465672</td>\n",
       "      <td>71003</td>\n",
       "      <td>75952</td>\n",
       "      <td>1</td>\n",
       "      <td>1</td>\n",
       "      <td>800.0</td>\n",
       "      <td>1</td>\n",
       "      <td>NaN</td>\n",
       "      <td>NaN</td>\n",
       "      <td>NaN</td>\n",
       "      <td>NaN</td>\n",
       "      <td>NaN</td>\n",
       "      <td>NaN</td>\n",
       "      <td>NaN</td>\n",
       "      <td>using only (2)</td>\n",
       "    </tr>\n",
       "    <tr>\n",
       "      <th>330189</th>\n",
       "      <td>5</td>\n",
       "      <td>475</td>\n",
       "      <td>116309</td>\n",
       "      <td>240.0</td>\n",
       "      <td>NaN</td>\n",
       "      <td>70995</td>\n",
       "      <td>2</td>\n",
       "      <td>144310.0</td>\n",
       "      <td>5040.000</td>\n",
       "      <td>2195.000</td>\n",
       "      <td>1.0</td>\n",
       "      <td>2020-03-16T09:34:41.000000Z</td>\n",
       "      <td>2020-03-16T09:34:41.000000Z | 2020-03-16T09:34...</td>\n",
       "      <td>2020-05-26T22:47:05.000000Z | 2020-05-26T22:47...</td>\n",
       "      <td>0.0</td>\n",
       "      <td>465628</td>\n",
       "      <td>70995</td>\n",
       "      <td>116309</td>\n",
       "      <td>1</td>\n",
       "      <td>12</td>\n",
       "      <td>120.0</td>\n",
       "      <td>12</td>\n",
       "      <td>NaN</td>\n",
       "      <td>NaN</td>\n",
       "      <td>NaN</td>\n",
       "      <td>NaN</td>\n",
       "      <td>NaN</td>\n",
       "      <td>NaN</td>\n",
       "      <td>NaN</td>\n",
       "      <td>using only (2)</td>\n",
       "    </tr>\n",
       "    <tr>\n",
       "      <th>330190</th>\n",
       "      <td>5</td>\n",
       "      <td>475</td>\n",
       "      <td>116309</td>\n",
       "      <td>240.0</td>\n",
       "      <td>NaN</td>\n",
       "      <td>71233</td>\n",
       "      <td>2</td>\n",
       "      <td>148972.0</td>\n",
       "      <td>4440.000</td>\n",
       "      <td>2420.000</td>\n",
       "      <td>1.0</td>\n",
       "      <td>2020-03-25T13:25:40.000000Z</td>\n",
       "      <td>2020-03-25T13:25:40.000000Z | 2020-03-25T13:25...</td>\n",
       "      <td>2020-05-16T18:28:46.000000Z | 2020-05-16T18:28...</td>\n",
       "      <td>0.0</td>\n",
       "      <td>466968</td>\n",
       "      <td>71233</td>\n",
       "      <td>116309</td>\n",
       "      <td>1</td>\n",
       "      <td>12</td>\n",
       "      <td>120.0</td>\n",
       "      <td>12</td>\n",
       "      <td>NaN</td>\n",
       "      <td>NaN</td>\n",
       "      <td>NaN</td>\n",
       "      <td>NaN</td>\n",
       "      <td>NaN</td>\n",
       "      <td>NaN</td>\n",
       "      <td>NaN</td>\n",
       "      <td>using only (2)</td>\n",
       "    </tr>\n",
       "    <tr>\n",
       "      <th>330191</th>\n",
       "      <td>5</td>\n",
       "      <td>475</td>\n",
       "      <td>116309</td>\n",
       "      <td>240.0</td>\n",
       "      <td>NaN</td>\n",
       "      <td>71034</td>\n",
       "      <td>2</td>\n",
       "      <td>150375.0</td>\n",
       "      <td>4440.000</td>\n",
       "      <td>2420.000</td>\n",
       "      <td>1.0</td>\n",
       "      <td>2020-03-16T12:20:14.000000Z</td>\n",
       "      <td>2020-03-16T12:20:14.000000Z | 2020-03-16T12:20...</td>\n",
       "      <td>2020-03-26T09:22:23.000000Z | 2020-03-26T09:22...</td>\n",
       "      <td>0.0</td>\n",
       "      <td>465827</td>\n",
       "      <td>71034</td>\n",
       "      <td>116309</td>\n",
       "      <td>1</td>\n",
       "      <td>12</td>\n",
       "      <td>120.0</td>\n",
       "      <td>12</td>\n",
       "      <td>NaN</td>\n",
       "      <td>NaN</td>\n",
       "      <td>NaN</td>\n",
       "      <td>NaN</td>\n",
       "      <td>NaN</td>\n",
       "      <td>NaN</td>\n",
       "      <td>NaN</td>\n",
       "      <td>using only (2)</td>\n",
       "    </tr>\n",
       "    <tr>\n",
       "      <th>330192</th>\n",
       "      <td>5</td>\n",
       "      <td>475</td>\n",
       "      <td>116309</td>\n",
       "      <td>360.0</td>\n",
       "      <td>NaN</td>\n",
       "      <td>71003</td>\n",
       "      <td>2</td>\n",
       "      <td>151876.0</td>\n",
       "      <td>7060.000</td>\n",
       "      <td>2480.000</td>\n",
       "      <td>1.0</td>\n",
       "      <td>2020-03-16T10:33:31.000000Z</td>\n",
       "      <td>2020-03-16T10:33:31.000000Z | 2020-03-16T10:33...</td>\n",
       "      <td>2020-05-16T18:28:03.000000Z | 2020-05-16T18:28...</td>\n",
       "      <td>0.0</td>\n",
       "      <td>465671</td>\n",
       "      <td>71003</td>\n",
       "      <td>116309</td>\n",
       "      <td>1</td>\n",
       "      <td>18</td>\n",
       "      <td>180.0</td>\n",
       "      <td>18</td>\n",
       "      <td>NaN</td>\n",
       "      <td>NaN</td>\n",
       "      <td>NaN</td>\n",
       "      <td>NaN</td>\n",
       "      <td>8255.0</td>\n",
       "      <td>A020</td>\n",
       "      <td>NaN</td>\n",
       "      <td>using only (2)</td>\n",
       "    </tr>\n",
       "  </tbody>\n",
       "</table>\n",
       "<p>330193 rows × 30 columns</p>\n",
       "</div>"
      ],
      "text/plain": [
       "        hmo_id  provider_id  care_id  claim_items_amount  amount     id   j  \\\n",
       "0            1            1       13              5000.0  5000.0     17   1   \n",
       "1            1            1       14              2500.0  2500.0     18   1   \n",
       "2            1            1      177              2500.0  2500.0     31  10   \n",
       "3            1            1      220               300.0   300.0     31  12   \n",
       "4            1            1      274              1500.0  1500.0     31  11   \n",
       "...        ...          ...      ...                 ...     ...    ...  ..   \n",
       "330188       5          475    75952              1200.0     NaN  71003   3   \n",
       "330189       5          475   116309               240.0     NaN  70995   2   \n",
       "330190       5          475   116309               240.0     NaN  71233   2   \n",
       "330191       5          475   116309               240.0     NaN  71034   2   \n",
       "330192       5          475   116309               360.0     NaN  71003   2   \n",
       "\n",
       "        enrollee_id  total_amount  approved_amount  hmo_status  \\\n",
       "0           41565.0     34671.172        31671.170         1.0   \n",
       "1             101.0      2500.000         2500.000         1.0   \n",
       "2           41620.0     99071.172        98171.172         1.0   \n",
       "3           41620.0     99071.172        98171.172         1.0   \n",
       "4           41620.0     99071.172        98171.172         1.0   \n",
       "...             ...           ...              ...         ...   \n",
       "330188     151876.0      7060.000         2480.000         1.0   \n",
       "330189     144310.0      5040.000         2195.000         1.0   \n",
       "330190     148972.0      4440.000         2420.000         1.0   \n",
       "330191     150375.0      4440.000         2420.000         1.0   \n",
       "330192     151876.0      7060.000         2480.000         1.0   \n",
       "\n",
       "                         created_at  \\\n",
       "0       2018-03-16T11:02:58.000000Z   \n",
       "1       2018-03-16T11:05:56.000000Z   \n",
       "2       2018-03-22T14:41:38.000000Z   \n",
       "3       2018-03-22T14:41:38.000000Z   \n",
       "4       2018-03-22T14:41:38.000000Z   \n",
       "...                             ...   \n",
       "330188  2020-03-16T10:33:31.000000Z   \n",
       "330189  2020-03-16T09:34:41.000000Z   \n",
       "330190  2020-03-25T13:25:40.000000Z   \n",
       "330191  2020-03-16T12:20:14.000000Z   \n",
       "330192  2020-03-16T10:33:31.000000Z   \n",
       "\n",
       "                                   claim_items_created_at  \\\n",
       "0       2018-03-16T11:02:58.000000Z | 2018-03-16T11:02...   \n",
       "1                             2018-03-16T11:05:56.000000Z   \n",
       "2       2018-03-22T14:41:38.000000Z | 2018-03-22T14:41...   \n",
       "3       2018-03-22T14:41:38.000000Z | 2018-03-22T14:41...   \n",
       "4       2018-03-22T14:41:38.000000Z | 2018-03-22T14:41...   \n",
       "...                                                   ...   \n",
       "330188  2020-03-16T10:33:31.000000Z | 2020-03-16T10:33...   \n",
       "330189  2020-03-16T09:34:41.000000Z | 2020-03-16T09:34...   \n",
       "330190  2020-03-25T13:25:40.000000Z | 2020-03-25T13:25...   \n",
       "330191  2020-03-16T12:20:14.000000Z | 2020-03-16T12:20...   \n",
       "330192  2020-03-16T10:33:31.000000Z | 2020-03-16T10:33...   \n",
       "\n",
       "                                   claim_items_updated_at  hmo_statusnew  \\\n",
       "0       2018-05-21T10:17:04.000000Z | 2018-05-21T10:17...            0.0   \n",
       "1                             2018-05-21T10:17:18.000000Z            0.0   \n",
       "2       2018-07-23T14:03:08.000000Z | 2020-04-30T01:48...            0.0   \n",
       "3       2018-07-23T14:03:08.000000Z | 2020-04-30T01:48...            0.0   \n",
       "4       2018-07-23T14:03:08.000000Z | 2020-04-30T01:48...            0.0   \n",
       "...                                                   ...            ...   \n",
       "330188  2020-05-16T18:28:03.000000Z | 2020-05-16T18:28...            0.0   \n",
       "330189  2020-05-26T22:47:05.000000Z | 2020-05-26T22:47...            0.0   \n",
       "330190  2020-05-16T18:28:46.000000Z | 2020-05-16T18:28...            0.0   \n",
       "330191  2020-03-26T09:22:23.000000Z | 2020-03-26T09:22...            0.0   \n",
       "330192  2020-05-16T18:28:03.000000Z | 2020-05-16T18:28...            0.0   \n",
       "\n",
       "        claim_items_id  claim_items_claim_id  claim_items_care_id  \\\n",
       "0                   66                    17                   13   \n",
       "1                   73                    18                   14   \n",
       "2                  116                    31                  177   \n",
       "3                  118                    31                  220   \n",
       "4                  117                    31                  274   \n",
       "...                ...                   ...                  ...   \n",
       "330188          465672                 71003                75952   \n",
       "330189          465628                 70995               116309   \n",
       "330190          466968                 71233               116309   \n",
       "330191          465827                 71034               116309   \n",
       "330192          465671                 71003               116309   \n",
       "\n",
       "        claim_items_hmo_approved  claim_items_qty  \\\n",
       "0                              1                1   \n",
       "1                              1                1   \n",
       "2                              1                1   \n",
       "3                              1                1   \n",
       "4                              1                1   \n",
       "...                          ...              ...   \n",
       "330188                         1                1   \n",
       "330189                         1               12   \n",
       "330190                         1               12   \n",
       "330191                         1               12   \n",
       "330192                         1               18   \n",
       "\n",
       "        claim_items_approved_amount  claim_items_approved_qty  \\\n",
       "0                            5000.0                         1   \n",
       "1                            2500.0                         1   \n",
       "2                            2500.0                         1   \n",
       "3                               0.0                         1   \n",
       "4                            1500.0                         1   \n",
       "...                             ...                       ...   \n",
       "330188                        800.0                         1   \n",
       "330189                        120.0                        12   \n",
       "330190                        120.0                        12   \n",
       "330191                        120.0                        12   \n",
       "330192                        180.0                        18   \n",
       "\n",
       "        claim_items_drug_frequency  claim_items_drug_duration  \\\n",
       "0                              NaN                        NaN   \n",
       "1                              NaN                        NaN   \n",
       "2                              NaN                        NaN   \n",
       "3                              NaN                        NaN   \n",
       "4                              NaN                        NaN   \n",
       "...                            ...                        ...   \n",
       "330188                         NaN                        NaN   \n",
       "330189                         NaN                        NaN   \n",
       "330190                         NaN                        NaN   \n",
       "330191                         NaN                        NaN   \n",
       "330192                         NaN                        NaN   \n",
       "\n",
       "        claim_items_drug_duration_sub  claim_items_tariff_id  diagnoses_id  \\\n",
       "0                                 NaN                    NaN       16534.0   \n",
       "1                                 NaN                    NaN        2090.0   \n",
       "2                                 NaN                    NaN           NaN   \n",
       "3                                 NaN                    NaN           NaN   \n",
       "4                                 NaN                    NaN           NaN   \n",
       "...                               ...                    ...           ...   \n",
       "330188                            NaN                    NaN           NaN   \n",
       "330189                            NaN                    NaN           NaN   \n",
       "330190                            NaN                    NaN           NaN   \n",
       "330191                            NaN                    NaN           NaN   \n",
       "330192                            NaN                    NaN        8255.0   \n",
       "\n",
       "       diagnoses_icd_code    _mergeold          _merge  \n",
       "0                  H26222  matched (3)     matched (3)  \n",
       "1                     NaN  matched (3)     matched (3)  \n",
       "2                     NaN  matched (3)     matched (3)  \n",
       "3                     NaN  matched (3)     matched (3)  \n",
       "4                     NaN  matched (3)     matched (3)  \n",
       "...                   ...          ...             ...  \n",
       "330188                NaN          NaN  using only (2)  \n",
       "330189                NaN          NaN  using only (2)  \n",
       "330190                NaN          NaN  using only (2)  \n",
       "330191                NaN          NaN  using only (2)  \n",
       "330192               A020          NaN  using only (2)  \n",
       "\n",
       "[330193 rows x 30 columns]"
      ]
     },
     "execution_count": 73,
     "metadata": {},
     "output_type": "execute_result"
    }
   ],
   "source": [
    "df"
   ]
  },
  {
   "cell_type": "code",
   "execution_count": 77,
   "metadata": {},
   "outputs": [
    {
     "data": {
      "text/html": [
       "<div>\n",
       "<style scoped>\n",
       "    .dataframe tbody tr th:only-of-type {\n",
       "        vertical-align: middle;\n",
       "    }\n",
       "\n",
       "    .dataframe tbody tr th {\n",
       "        vertical-align: top;\n",
       "    }\n",
       "\n",
       "    .dataframe thead th {\n",
       "        text-align: right;\n",
       "    }\n",
       "</style>\n",
       "<table border=\"1\" class=\"dataframe\">\n",
       "  <thead>\n",
       "    <tr style=\"text-align: right;\">\n",
       "      <th></th>\n",
       "      <th>claim_items_amount</th>\n",
       "      <th>claim_items_approved_amount</th>\n",
       "    </tr>\n",
       "  </thead>\n",
       "  <tbody>\n",
       "    <tr>\n",
       "      <th>min</th>\n",
       "      <td>0.000000e+00</td>\n",
       "      <td>0.000000e+00</td>\n",
       "    </tr>\n",
       "    <tr>\n",
       "      <th>max</th>\n",
       "      <td>2.850000e+06</td>\n",
       "      <td>2.850000e+06</td>\n",
       "    </tr>\n",
       "    <tr>\n",
       "      <th>median</th>\n",
       "      <td>1.500000e+03</td>\n",
       "      <td>1.500000e+03</td>\n",
       "    </tr>\n",
       "    <tr>\n",
       "      <th>skew</th>\n",
       "      <td>6.050611e+01</td>\n",
       "      <td>7.522129e+01</td>\n",
       "    </tr>\n",
       "  </tbody>\n",
       "</table>\n",
       "</div>"
      ],
      "text/plain": [
       "        claim_items_amount  claim_items_approved_amount\n",
       "min           0.000000e+00                 0.000000e+00\n",
       "max           2.850000e+06                 2.850000e+06\n",
       "median        1.500000e+03                 1.500000e+03\n",
       "skew          6.050611e+01                 7.522129e+01"
      ]
     },
     "execution_count": 77,
     "metadata": {},
     "output_type": "execute_result"
    }
   ],
   "source": [
    "#Check summary statistics of the claim amount and approved amount for individual claims\n",
    "df.agg({'claim_items_amount': ['min', 'max', 'median', 'skew'],\n",
    "         'claim_items_approved_amount': ['min', 'max', 'median', 'skew']})"
   ]
  },
  {
   "cell_type": "code",
   "execution_count": 78,
   "metadata": {},
   "outputs": [
    {
     "name": "stderr",
     "output_type": "stream",
     "text": [
      "/Users/sudipbhandari/opt/anaconda3/lib/python3.7/site-packages/ipykernel_launcher.py:2: SettingWithCopyWarning: \n",
      "A value is trying to be set on a copy of a slice from a DataFrame\n",
      "\n",
      "See the caveats in the documentation: https://pandas.pydata.org/pandas-docs/stable/user_guide/indexing.html#returning-a-view-versus-a-copy\n",
      "  \n",
      "/Users/sudipbhandari/opt/anaconda3/lib/python3.7/site-packages/ipykernel_launcher.py:3: SettingWithCopyWarning: \n",
      "A value is trying to be set on a copy of a slice from a DataFrame\n",
      "\n",
      "See the caveats in the documentation: https://pandas.pydata.org/pandas-docs/stable/user_guide/indexing.html#returning-a-view-versus-a-copy\n",
      "  This is separate from the ipykernel package so we can avoid doing imports until\n"
     ]
    }
   ],
   "source": [
    "#Change the negative claim amount to 0\n",
    "df[\"claim_items_amount\"][df[\"claim_items_amount\"] < 0] = 0\n",
    "df[\"claim_items_approved_amount\"][df[\"claim_items_approved_amount\"] < 0] = 0"
   ]
  },
  {
   "cell_type": "code",
   "execution_count": 79,
   "metadata": {},
   "outputs": [],
   "source": [
    "#Change Nigerian naira to US dollars\n",
    "df['claim_items_amountusd'] = df['claim_items_amount']/386\n",
    "df['claim_items_approved_amountusd'] = df['claim_items_approved_amount']/386"
   ]
  },
  {
   "cell_type": "code",
   "execution_count": 80,
   "metadata": {},
   "outputs": [
    {
     "data": {
      "text/html": [
       "<div>\n",
       "<style scoped>\n",
       "    .dataframe tbody tr th:only-of-type {\n",
       "        vertical-align: middle;\n",
       "    }\n",
       "\n",
       "    .dataframe tbody tr th {\n",
       "        vertical-align: top;\n",
       "    }\n",
       "\n",
       "    .dataframe thead th {\n",
       "        text-align: right;\n",
       "    }\n",
       "</style>\n",
       "<table border=\"1\" class=\"dataframe\">\n",
       "  <thead>\n",
       "    <tr style=\"text-align: right;\">\n",
       "      <th></th>\n",
       "      <th>claim_items_amountusd</th>\n",
       "      <th>claim_items_approved_amountusd</th>\n",
       "    </tr>\n",
       "  </thead>\n",
       "  <tbody>\n",
       "    <tr>\n",
       "      <th>min</th>\n",
       "      <td>0.000000</td>\n",
       "      <td>0.000000</td>\n",
       "    </tr>\n",
       "    <tr>\n",
       "      <th>max</th>\n",
       "      <td>7383.419689</td>\n",
       "      <td>7383.419689</td>\n",
       "    </tr>\n",
       "    <tr>\n",
       "      <th>median</th>\n",
       "      <td>3.886010</td>\n",
       "      <td>3.886010</td>\n",
       "    </tr>\n",
       "    <tr>\n",
       "      <th>skew</th>\n",
       "      <td>60.506114</td>\n",
       "      <td>75.221287</td>\n",
       "    </tr>\n",
       "  </tbody>\n",
       "</table>\n",
       "</div>"
      ],
      "text/plain": [
       "        claim_items_amountusd  claim_items_approved_amountusd\n",
       "min                  0.000000                        0.000000\n",
       "max               7383.419689                     7383.419689\n",
       "median               3.886010                        3.886010\n",
       "skew                60.506114                       75.221287"
      ]
     },
     "execution_count": 80,
     "metadata": {},
     "output_type": "execute_result"
    }
   ],
   "source": [
    "#Check summary statistics of the claim amount and approved amount\n",
    "df.agg({'claim_items_amountusd': ['min', 'max', 'median', 'skew'],\n",
    "         'claim_items_approved_amountusd': ['min', 'max', 'median', 'skew']})"
   ]
  },
  {
   "cell_type": "code",
   "execution_count": 81,
   "metadata": {},
   "outputs": [
    {
     "data": {
      "text/html": [
       "<div>\n",
       "<style scoped>\n",
       "    .dataframe tbody tr th:only-of-type {\n",
       "        vertical-align: middle;\n",
       "    }\n",
       "\n",
       "    .dataframe tbody tr th {\n",
       "        vertical-align: top;\n",
       "    }\n",
       "\n",
       "    .dataframe thead th {\n",
       "        text-align: right;\n",
       "    }\n",
       "</style>\n",
       "<table border=\"1\" class=\"dataframe\">\n",
       "  <thead>\n",
       "    <tr style=\"text-align: right;\">\n",
       "      <th></th>\n",
       "      <th>total_amount</th>\n",
       "      <th>approved_amount</th>\n",
       "    </tr>\n",
       "  </thead>\n",
       "  <tbody>\n",
       "    <tr>\n",
       "      <th>min</th>\n",
       "      <td>-4.501800e+04</td>\n",
       "      <td>0.000000e+00</td>\n",
       "    </tr>\n",
       "    <tr>\n",
       "      <th>max</th>\n",
       "      <td>4.104795e+06</td>\n",
       "      <td>4.004595e+06</td>\n",
       "    </tr>\n",
       "    <tr>\n",
       "      <th>median</th>\n",
       "      <td>1.645000e+04</td>\n",
       "      <td>1.542600e+04</td>\n",
       "    </tr>\n",
       "    <tr>\n",
       "      <th>skew</th>\n",
       "      <td>1.472018e+01</td>\n",
       "      <td>1.541935e+01</td>\n",
       "    </tr>\n",
       "  </tbody>\n",
       "</table>\n",
       "</div>"
      ],
      "text/plain": [
       "        total_amount  approved_amount\n",
       "min    -4.501800e+04     0.000000e+00\n",
       "max     4.104795e+06     4.004595e+06\n",
       "median  1.645000e+04     1.542600e+04\n",
       "skew    1.472018e+01     1.541935e+01"
      ]
     },
     "execution_count": 81,
     "metadata": {},
     "output_type": "execute_result"
    }
   ],
   "source": [
    "#Check summary statistics of the total claimed amount and total approved amount\n",
    "df.agg({'total_amount': ['min', 'max', 'median', 'skew'],\n",
    "         'approved_amount': ['min', 'max', 'median', 'skew']})"
   ]
  },
  {
   "cell_type": "code",
   "execution_count": 82,
   "metadata": {},
   "outputs": [
    {
     "name": "stderr",
     "output_type": "stream",
     "text": [
      "/Users/sudipbhandari/opt/anaconda3/lib/python3.7/site-packages/ipykernel_launcher.py:2: SettingWithCopyWarning: \n",
      "A value is trying to be set on a copy of a slice from a DataFrame\n",
      "\n",
      "See the caveats in the documentation: https://pandas.pydata.org/pandas-docs/stable/user_guide/indexing.html#returning-a-view-versus-a-copy\n",
      "  \n"
     ]
    }
   ],
   "source": [
    "#Change the negative claim amount to 0\n",
    "df[\"total_amount\"][df[\"total_amount\"] < 0] = 0"
   ]
  },
  {
   "cell_type": "code",
   "execution_count": 83,
   "metadata": {},
   "outputs": [],
   "source": [
    "#Change Nigerian naira to US dollars\n",
    "df['total_amountusd'] = df['total_amount']/386\n",
    "df['approved_amountusd'] = df['approved_amount']/386"
   ]
  },
  {
   "cell_type": "code",
   "execution_count": 84,
   "metadata": {},
   "outputs": [
    {
     "data": {
      "text/html": [
       "<div>\n",
       "<style scoped>\n",
       "    .dataframe tbody tr th:only-of-type {\n",
       "        vertical-align: middle;\n",
       "    }\n",
       "\n",
       "    .dataframe tbody tr th {\n",
       "        vertical-align: top;\n",
       "    }\n",
       "\n",
       "    .dataframe thead th {\n",
       "        text-align: right;\n",
       "    }\n",
       "</style>\n",
       "<table border=\"1\" class=\"dataframe\">\n",
       "  <thead>\n",
       "    <tr style=\"text-align: right;\">\n",
       "      <th></th>\n",
       "      <th>total_amountusd</th>\n",
       "      <th>approved_amountusd</th>\n",
       "    </tr>\n",
       "  </thead>\n",
       "  <tbody>\n",
       "    <tr>\n",
       "      <th>min</th>\n",
       "      <td>0.000000</td>\n",
       "      <td>0.000000</td>\n",
       "    </tr>\n",
       "    <tr>\n",
       "      <th>max</th>\n",
       "      <td>10634.183938</td>\n",
       "      <td>10374.598446</td>\n",
       "    </tr>\n",
       "    <tr>\n",
       "      <th>median</th>\n",
       "      <td>42.616580</td>\n",
       "      <td>39.963731</td>\n",
       "    </tr>\n",
       "    <tr>\n",
       "      <th>skew</th>\n",
       "      <td>14.720339</td>\n",
       "      <td>15.419354</td>\n",
       "    </tr>\n",
       "  </tbody>\n",
       "</table>\n",
       "</div>"
      ],
      "text/plain": [
       "        total_amountusd  approved_amountusd\n",
       "min            0.000000            0.000000\n",
       "max        10634.183938        10374.598446\n",
       "median        42.616580           39.963731\n",
       "skew          14.720339           15.419354"
      ]
     },
     "execution_count": 84,
     "metadata": {},
     "output_type": "execute_result"
    }
   ],
   "source": [
    "#Check summary statistics of the total claimed amount and total approved amount for verification\n",
    "df.agg({'total_amountusd': ['min', 'max', 'median', 'skew'],\n",
    "         'approved_amountusd': ['min', 'max', 'median', 'skew']})"
   ]
  },
  {
   "cell_type": "code",
   "execution_count": 85,
   "metadata": {},
   "outputs": [
    {
     "data": {
      "text/plain": [
       " 1    315807\n",
       "-1     14322\n",
       " 0        64\n",
       "Name: claim_items_hmo_approved, dtype: int64"
      ]
     },
     "execution_count": 85,
     "metadata": {},
     "output_type": "execute_result"
    }
   ],
   "source": [
    "#Check value counts for the binary variable claim_items_hmo_approved\n",
    "df[\"claim_items_hmo_approved\"].value_counts()"
   ]
  },
  {
   "cell_type": "code",
   "execution_count": 86,
   "metadata": {},
   "outputs": [],
   "source": [
    "#Remove rows for claims that are not approved (1) or disapproved (-1)\n",
    "df.drop(df.loc[df['claim_items_hmo_approved']==0].index, inplace=True)"
   ]
  },
  {
   "cell_type": "markdown",
   "metadata": {},
   "source": [
    "### Deal with the missing values."
   ]
  },
  {
   "cell_type": "code",
   "execution_count": 87,
   "metadata": {},
   "outputs": [
    {
     "data": {
      "text/plain": [
       "hmo_id                                 0\n",
       "provider_id                            0\n",
       "care_id                                0\n",
       "claim_items_amount                     0\n",
       "amount                            289261\n",
       "id                                     0\n",
       "j                                      0\n",
       "enrollee_id                           15\n",
       "total_amount                          25\n",
       "approved_amount                        0\n",
       "hmo_status                            33\n",
       "created_at                             0\n",
       "claim_items_created_at                 0\n",
       "claim_items_updated_at                 0\n",
       "hmo_statusnew                         33\n",
       "claim_items_id                         0\n",
       "claim_items_claim_id                   0\n",
       "claim_items_care_id                    0\n",
       "claim_items_hmo_approved               0\n",
       "claim_items_qty                        0\n",
       "claim_items_approved_amount            0\n",
       "claim_items_approved_qty               0\n",
       "claim_items_drug_frequency        324240\n",
       "claim_items_drug_duration         324309\n",
       "claim_items_drug_duration_sub     324368\n",
       "claim_items_tariff_id             330076\n",
       "diagnoses_id                      206358\n",
       "diagnoses_icd_code                284089\n",
       "_mergeold                         285519\n",
       "_merge                                 0\n",
       "claim_items_amountusd                  0\n",
       "claim_items_approved_amountusd         0\n",
       "total_amountusd                       25\n",
       "approved_amountusd                     0\n",
       "dtype: int64"
      ]
     },
     "execution_count": 87,
     "metadata": {},
     "output_type": "execute_result"
    }
   ],
   "source": [
    "#Identify features with missing values.\n",
    "df.isna().sum()"
   ]
  },
  {
   "cell_type": "code",
   "execution_count": 88,
   "metadata": {},
   "outputs": [],
   "source": [
    "#Fill missing values of total amount usd with median for that variable\n",
    "df[\"total_amountusd\"].fillna(df[\"total_amountusd\"].median(), inplace = True)"
   ]
  },
  {
   "cell_type": "code",
   "execution_count": 89,
   "metadata": {},
   "outputs": [
    {
     "data": {
      "text/html": [
       "<div>\n",
       "<style scoped>\n",
       "    .dataframe tbody tr th:only-of-type {\n",
       "        vertical-align: middle;\n",
       "    }\n",
       "\n",
       "    .dataframe tbody tr th {\n",
       "        vertical-align: top;\n",
       "    }\n",
       "\n",
       "    .dataframe thead th {\n",
       "        text-align: right;\n",
       "    }\n",
       "</style>\n",
       "<table border=\"1\" class=\"dataframe\">\n",
       "  <thead>\n",
       "    <tr style=\"text-align: right;\">\n",
       "      <th></th>\n",
       "      <th>total_amountusd</th>\n",
       "      <th>approved_amountusd</th>\n",
       "    </tr>\n",
       "  </thead>\n",
       "  <tbody>\n",
       "    <tr>\n",
       "      <th>min</th>\n",
       "      <td>0.000000</td>\n",
       "      <td>0.000000</td>\n",
       "    </tr>\n",
       "    <tr>\n",
       "      <th>max</th>\n",
       "      <td>10634.183938</td>\n",
       "      <td>10374.598446</td>\n",
       "    </tr>\n",
       "    <tr>\n",
       "      <th>median</th>\n",
       "      <td>42.616580</td>\n",
       "      <td>39.963731</td>\n",
       "    </tr>\n",
       "    <tr>\n",
       "      <th>skew</th>\n",
       "      <td>14.730685</td>\n",
       "      <td>15.426791</td>\n",
       "    </tr>\n",
       "  </tbody>\n",
       "</table>\n",
       "</div>"
      ],
      "text/plain": [
       "        total_amountusd  approved_amountusd\n",
       "min            0.000000            0.000000\n",
       "max        10634.183938        10374.598446\n",
       "median        42.616580           39.963731\n",
       "skew          14.730685           15.426791"
      ]
     },
     "execution_count": 89,
     "metadata": {},
     "output_type": "execute_result"
    }
   ],
   "source": [
    "#checking to see what's different\n",
    "df.agg({'total_amountusd': ['min', 'max', 'median', 'skew'],\n",
    "         'approved_amountusd': ['min', 'max', 'median', 'skew']})"
   ]
  },
  {
   "cell_type": "code",
   "execution_count": 90,
   "metadata": {},
   "outputs": [],
   "source": [
    "#fill missing values with median for total_amountusd\n",
    "df[\"total_amount\"].fillna(df[\"total_amount\"].median(), inplace = True)"
   ]
  },
  {
   "cell_type": "code",
   "execution_count": 91,
   "metadata": {},
   "outputs": [
    {
     "data": {
      "text/plain": [
       "0"
      ]
     },
     "execution_count": 91,
     "metadata": {},
     "output_type": "execute_result"
    }
   ],
   "source": [
    "#See if the imputation worked\n",
    "df[\"total_amountusd\"].isna().sum()"
   ]
  },
  {
   "cell_type": "code",
   "execution_count": 92,
   "metadata": {},
   "outputs": [
    {
     "data": {
      "text/plain": [
       "0"
      ]
     },
     "execution_count": 92,
     "metadata": {},
     "output_type": "execute_result"
    }
   ],
   "source": [
    "#Check whether there are missing values in approved_amount\n",
    "df[\"approved_amountusd\"].isna().sum()"
   ]
  },
  {
   "cell_type": "code",
   "execution_count": 93,
   "metadata": {},
   "outputs": [
    {
     "data": {
      "text/html": [
       "<div>\n",
       "<style scoped>\n",
       "    .dataframe tbody tr th:only-of-type {\n",
       "        vertical-align: middle;\n",
       "    }\n",
       "\n",
       "    .dataframe tbody tr th {\n",
       "        vertical-align: top;\n",
       "    }\n",
       "\n",
       "    .dataframe thead th {\n",
       "        text-align: right;\n",
       "    }\n",
       "</style>\n",
       "<table border=\"1\" class=\"dataframe\">\n",
       "  <thead>\n",
       "    <tr style=\"text-align: right;\">\n",
       "      <th></th>\n",
       "      <th>total_amountusd</th>\n",
       "      <th>approved_amountusd</th>\n",
       "    </tr>\n",
       "  </thead>\n",
       "  <tbody>\n",
       "    <tr>\n",
       "      <th>min</th>\n",
       "      <td>0.000000</td>\n",
       "      <td>0.000000</td>\n",
       "    </tr>\n",
       "    <tr>\n",
       "      <th>max</th>\n",
       "      <td>10634.183938</td>\n",
       "      <td>10374.598446</td>\n",
       "    </tr>\n",
       "    <tr>\n",
       "      <th>median</th>\n",
       "      <td>42.616580</td>\n",
       "      <td>39.963731</td>\n",
       "    </tr>\n",
       "    <tr>\n",
       "      <th>skew</th>\n",
       "      <td>14.730685</td>\n",
       "      <td>15.426791</td>\n",
       "    </tr>\n",
       "  </tbody>\n",
       "</table>\n",
       "</div>"
      ],
      "text/plain": [
       "        total_amountusd  approved_amountusd\n",
       "min            0.000000            0.000000\n",
       "max        10634.183938        10374.598446\n",
       "median        42.616580           39.963731\n",
       "skew          14.730685           15.426791"
      ]
     },
     "execution_count": 93,
     "metadata": {},
     "output_type": "execute_result"
    }
   ],
   "source": [
    "#Check summary statistics of the total claimed amount and total approved amount for verification\n",
    "df.agg({'total_amountusd': ['min', 'max', 'median', 'skew'],\n",
    "         'approved_amountusd': ['min', 'max', 'median', 'skew']})"
   ]
  },
  {
   "cell_type": "code",
   "execution_count": 94,
   "metadata": {},
   "outputs": [],
   "source": [
    "#Droopping any enrollee id that is missing\n",
    "df.dropna(subset=['enrollee_id'], inplace = True)"
   ]
  },
  {
   "cell_type": "markdown",
   "metadata": {},
   "source": [
    "### Univariate and bivariate graphs"
   ]
  },
  {
   "cell_type": "code",
   "execution_count": 95,
   "metadata": {},
   "outputs": [
    {
     "data": {
      "text/plain": [
       "Text(0, 0.5, 'Count')"
      ]
     },
     "execution_count": 95,
     "metadata": {},
     "output_type": "execute_result"
    },
    {
     "data": {
      "image/png": "[encoded data removed]",
      "text/plain": [
       "<Figure size 576x432 with 1 Axes>"
      ]
     },
     "metadata": {
      "needs_background": "light"
     },
     "output_type": "display_data"
    }
   ],
   "source": [
    "#Graph of total amount claimed\n",
    "plt.figure(figsize=(8,6))\n",
    "plt.hist(df['total_amountusd'], color = 'blue', edgecolor = 'black',\n",
    "         bins = 30, range = (0,200))\n",
    "plt.title('Histogram of claim amount')\n",
    "plt.xlabel(\"Claim amount (USD)\")\n",
    "plt.ylabel(\"Count\")"
   ]
  },
  {
   "cell_type": "code",
   "execution_count": 96,
   "metadata": {},
   "outputs": [
    {
     "data": {
      "text/plain": [
       "Text(0, 0.5, 'Count')"
      ]
     },
     "execution_count": 96,
     "metadata": {},
     "output_type": "execute_result"
    },
    {
     "data": {
      "image/png": "[encoded data removed]",
      "text/plain": [
       "<Figure size 576x432 with 1 Axes>"
      ]
     },
     "metadata": {
      "needs_background": "light"
     },
     "output_type": "display_data"
    }
   ],
   "source": [
    "#Graph of approved amount\n",
    "plt.figure(figsize=(8,6))\n",
    "plt.hist(df['approved_amountusd'], color = 'green', edgecolor = 'black',\n",
    "         bins = 30, range = (0,200))\n",
    "plt.title('Histogram of approved amount')\n",
    "plt.xlabel(\"Approved amount (USD)\")\n",
    "plt.ylabel(\"Count\")"
   ]
  },
  {
   "cell_type": "code",
   "execution_count": 97,
   "metadata": {},
   "outputs": [
    {
     "name": "stderr",
     "output_type": "stream",
     "text": [
      "No handles with labels found to put in legend.\n"
     ]
    },
    {
     "data": {
      "text/plain": [
       "Text(0, 0.5, 'Count')"
      ]
     },
     "execution_count": 97,
     "metadata": {},
     "output_type": "execute_result"
    },
    {
     "data": {
      "image/png": "[encoded data removed]",
      "text/plain": [
       "<Figure size 576x432 with 1 Axes>"
      ]
     },
     "metadata": {
      "needs_background": "light"
     },
     "output_type": "display_data"
    }
   ],
   "source": [
    "#Graph of claimed amount vs approved amount\n",
    "plt.figure(figsize=(8,6))\n",
    "plt.hist(df['total_amountusd'], color = 'yellow', edgecolor = 'black', alpha=0.2, \n",
    "         bins = 30, range = (0,200))\n",
    "plt.hist(df['approved_amountusd'], color = 'black', edgecolor = 'black', alpha=0.2, \n",
    "         bins = 30, range = (0,200))\n",
    "plt.title('Claim amount vs. Approved amount')\n",
    "plt.legend(loc='upper right')\n",
    "plt.xlabel(\"Amount in USD\")\n",
    "plt.ylabel(\"Count\")"
   ]
  },
  {
   "cell_type": "code",
   "execution_count": 98,
   "metadata": {},
   "outputs": [
    {
     "data": {
      "text/plain": [
       "<seaborn.axisgrid.JointGrid at 0x7fc53b3bf710>"
      ]
     },
     "execution_count": 98,
     "metadata": {},
     "output_type": "execute_result"
    },
    {
     "data": {
      "image/png": "[encoded data removed]",
      "text/plain": [
       "<Figure size 432x432 with 3 Axes>"
      ]
     },
     "metadata": {},
     "output_type": "display_data"
    }
   ],
   "source": [
    "#Jointplot of claimed amount vs. approved amount\n",
    "plt.style.use('seaborn-whitegrid')\n",
    "sns.jointplot(x='total_amountusd',y='approved_amountusd', marker = \"+\", data=df)"
   ]
  },
  {
   "cell_type": "code",
   "execution_count": 99,
   "metadata": {},
   "outputs": [
    {
     "data": {
      "image/png": "[encoded data removed]",
      "text/plain": [
       "<Figure size 576x432 with 1 Axes>"
      ]
     },
     "metadata": {},
     "output_type": "display_data"
    }
   ],
   "source": [
    "#Scatterplot of claim amount vs. approved amount\n",
    "plt.figure(figsize=(8,6))\n",
    "x = df[\"id\"]\n",
    "y1 = df[\"total_amountusd\"]\n",
    "y2 = df[\"approved_amountusd\"]\n",
    "plt.scatter(x, y1, color = \"red\")\n",
    "plt.scatter(x, y1, color = \"green\")\n",
    "\n",
    "#Labeling \n",
    "plt.title('Scatter plot of claim amount vs approved amount')\n",
    "plt.xlabel('Claim id number')\n",
    "plt.xlabel('Amount in USD')\n",
    "plt.show()"
   ]
  },
  {
   "cell_type": "code",
   "execution_count": 100,
   "metadata": {},
   "outputs": [
    {
     "data": {
      "text/plain": [
       "array([<matplotlib.axes._subplots.AxesSubplot object at 0x7fc524191450>,\n",
       "       <matplotlib.axes._subplots.AxesSubplot object at 0x7fc53b290c10>],\n",
       "      dtype=object)"
      ]
     },
     "execution_count": 100,
     "metadata": {},
     "output_type": "execute_result"
    },
    {
     "data": {
      "image/png": "[encoded data removed]",
      "text/plain": [
       "<Figure size 432x288 with 2 Axes>"
      ]
     },
     "metadata": {},
     "output_type": "display_data"
    }
   ],
   "source": [
    "#Evaluating total amount USD based on HMO status\n",
    "df['total_amountusd'].hist(by=df[\"claim_items_hmo_approved\"], range = (0,200))"
   ]
  },
  {
   "cell_type": "markdown",
   "metadata": {},
   "source": [
    "### One hot encoding values"
   ]
  },
  {
   "cell_type": "code",
   "execution_count": 101,
   "metadata": {},
   "outputs": [
    {
     "data": {
      "text/plain": [
       " 1    315792\n",
       "-1     14322\n",
       "Name: claim_items_hmo_approved, dtype: int64"
      ]
     },
     "execution_count": 101,
     "metadata": {},
     "output_type": "execute_result"
    }
   ],
   "source": [
    "df['claim_items_hmo_approved'].value_counts()"
   ]
  },
  {
   "cell_type": "code",
   "execution_count": 102,
   "metadata": {},
   "outputs": [],
   "source": [
    "#One hot encoding for the claim_items_hmo_approved\n",
    "df=pd.get_dummies(df, columns = [\"claim_items_hmo_approved\"])"
   ]
  },
  {
   "cell_type": "code",
   "execution_count": 103,
   "metadata": {},
   "outputs": [
    {
     "name": "stdout",
     "output_type": "stream",
     "text": [
      "0    315792\n",
      "1     14322\n",
      "Name: claim_items_hmo_approved_-1, dtype: int64\n"
     ]
    }
   ],
   "source": [
    "#Checking the coding of the claim_items_hmo_approved feature\n",
    "print(df['claim_items_hmo_approved_-1'].value_counts())"
   ]
  },
  {
   "cell_type": "code",
   "execution_count": 104,
   "metadata": {},
   "outputs": [],
   "source": [
    "#One hot encoding for the hmo_status\n",
    "df= pd.get_dummies(df, columns = [\"hmo_status\"])"
   ]
  },
  {
   "cell_type": "code",
   "execution_count": 108,
   "metadata": {},
   "outputs": [
    {
     "name": "stdout",
     "output_type": "stream",
     "text": [
      "0    327434\n",
      "1      2680\n",
      "Name: hmo_status_-1.0, dtype: int64\n"
     ]
    }
   ],
   "source": [
    "print(df['hmo_status_-1.0'].value_counts())"
   ]
  },
  {
   "cell_type": "code",
   "execution_count": 106,
   "metadata": {},
   "outputs": [
    {
     "data": {
      "text/html": [
       "<div>\n",
       "<style scoped>\n",
       "    .dataframe tbody tr th:only-of-type {\n",
       "        vertical-align: middle;\n",
       "    }\n",
       "\n",
       "    .dataframe tbody tr th {\n",
       "        vertical-align: top;\n",
       "    }\n",
       "\n",
       "    .dataframe thead th {\n",
       "        text-align: right;\n",
       "    }\n",
       "</style>\n",
       "<table border=\"1\" class=\"dataframe\">\n",
       "  <thead>\n",
       "    <tr style=\"text-align: right;\">\n",
       "      <th></th>\n",
       "      <th>hmo_id</th>\n",
       "      <th>provider_id</th>\n",
       "      <th>care_id</th>\n",
       "      <th>claim_items_amount</th>\n",
       "      <th>amount</th>\n",
       "      <th>id</th>\n",
       "      <th>j</th>\n",
       "      <th>enrollee_id</th>\n",
       "      <th>total_amount</th>\n",
       "      <th>approved_amount</th>\n",
       "      <th>created_at</th>\n",
       "      <th>claim_items_created_at</th>\n",
       "      <th>claim_items_updated_at</th>\n",
       "      <th>hmo_statusnew</th>\n",
       "      <th>claim_items_id</th>\n",
       "      <th>claim_items_claim_id</th>\n",
       "      <th>claim_items_care_id</th>\n",
       "      <th>claim_items_qty</th>\n",
       "      <th>claim_items_approved_amount</th>\n",
       "      <th>claim_items_approved_qty</th>\n",
       "      <th>claim_items_drug_frequency</th>\n",
       "      <th>claim_items_drug_duration</th>\n",
       "      <th>claim_items_drug_duration_sub</th>\n",
       "      <th>claim_items_tariff_id</th>\n",
       "      <th>diagnoses_id</th>\n",
       "      <th>diagnoses_icd_code</th>\n",
       "      <th>_mergeold</th>\n",
       "      <th>_merge</th>\n",
       "      <th>claim_items_amountusd</th>\n",
       "      <th>claim_items_approved_amountusd</th>\n",
       "      <th>total_amountusd</th>\n",
       "      <th>approved_amountusd</th>\n",
       "      <th>claim_items_hmo_approved_-1</th>\n",
       "      <th>claim_items_hmo_approved_1</th>\n",
       "      <th>hmo_status_-1.0</th>\n",
       "      <th>hmo_status_1.0</th>\n",
       "    </tr>\n",
       "  </thead>\n",
       "  <tbody>\n",
       "    <tr>\n",
       "      <th>0</th>\n",
       "      <td>1</td>\n",
       "      <td>1</td>\n",
       "      <td>13</td>\n",
       "      <td>5000.0</td>\n",
       "      <td>5000.0</td>\n",
       "      <td>17</td>\n",
       "      <td>1</td>\n",
       "      <td>41565.0</td>\n",
       "      <td>34671.172</td>\n",
       "      <td>31671.170</td>\n",
       "      <td>2018-03-16T11:02:58.000000Z</td>\n",
       "      <td>2018-03-16T11:02:58.000000Z | 2018-03-16T11:02...</td>\n",
       "      <td>2018-05-21T10:17:04.000000Z | 2018-05-21T10:17...</td>\n",
       "      <td>0.0</td>\n",
       "      <td>66</td>\n",
       "      <td>17</td>\n",
       "      <td>13</td>\n",
       "      <td>1</td>\n",
       "      <td>5000.0</td>\n",
       "      <td>1</td>\n",
       "      <td>NaN</td>\n",
       "      <td>NaN</td>\n",
       "      <td>NaN</td>\n",
       "      <td>NaN</td>\n",
       "      <td>16534.0</td>\n",
       "      <td>H26222</td>\n",
       "      <td>matched (3)</td>\n",
       "      <td>matched (3)</td>\n",
       "      <td>12.953368</td>\n",
       "      <td>12.953368</td>\n",
       "      <td>89.821689</td>\n",
       "      <td>82.049663</td>\n",
       "      <td>0</td>\n",
       "      <td>1</td>\n",
       "      <td>0</td>\n",
       "      <td>1</td>\n",
       "    </tr>\n",
       "    <tr>\n",
       "      <th>1</th>\n",
       "      <td>1</td>\n",
       "      <td>1</td>\n",
       "      <td>14</td>\n",
       "      <td>2500.0</td>\n",
       "      <td>2500.0</td>\n",
       "      <td>18</td>\n",
       "      <td>1</td>\n",
       "      <td>101.0</td>\n",
       "      <td>2500.000</td>\n",
       "      <td>2500.000</td>\n",
       "      <td>2018-03-16T11:05:56.000000Z</td>\n",
       "      <td>2018-03-16T11:05:56.000000Z</td>\n",
       "      <td>2018-05-21T10:17:18.000000Z</td>\n",
       "      <td>0.0</td>\n",
       "      <td>73</td>\n",
       "      <td>18</td>\n",
       "      <td>14</td>\n",
       "      <td>1</td>\n",
       "      <td>2500.0</td>\n",
       "      <td>1</td>\n",
       "      <td>NaN</td>\n",
       "      <td>NaN</td>\n",
       "      <td>NaN</td>\n",
       "      <td>NaN</td>\n",
       "      <td>2090.0</td>\n",
       "      <td>NaN</td>\n",
       "      <td>matched (3)</td>\n",
       "      <td>matched (3)</td>\n",
       "      <td>6.476684</td>\n",
       "      <td>6.476684</td>\n",
       "      <td>6.476684</td>\n",
       "      <td>6.476684</td>\n",
       "      <td>0</td>\n",
       "      <td>1</td>\n",
       "      <td>0</td>\n",
       "      <td>1</td>\n",
       "    </tr>\n",
       "    <tr>\n",
       "      <th>2</th>\n",
       "      <td>1</td>\n",
       "      <td>1</td>\n",
       "      <td>177</td>\n",
       "      <td>2500.0</td>\n",
       "      <td>2500.0</td>\n",
       "      <td>31</td>\n",
       "      <td>10</td>\n",
       "      <td>41620.0</td>\n",
       "      <td>99071.172</td>\n",
       "      <td>98171.172</td>\n",
       "      <td>2018-03-22T14:41:38.000000Z</td>\n",
       "      <td>2018-03-22T14:41:38.000000Z | 2018-03-22T14:41...</td>\n",
       "      <td>2018-07-23T14:03:08.000000Z | 2020-04-30T01:48...</td>\n",
       "      <td>0.0</td>\n",
       "      <td>116</td>\n",
       "      <td>31</td>\n",
       "      <td>177</td>\n",
       "      <td>1</td>\n",
       "      <td>2500.0</td>\n",
       "      <td>1</td>\n",
       "      <td>NaN</td>\n",
       "      <td>NaN</td>\n",
       "      <td>NaN</td>\n",
       "      <td>NaN</td>\n",
       "      <td>NaN</td>\n",
       "      <td>NaN</td>\n",
       "      <td>matched (3)</td>\n",
       "      <td>matched (3)</td>\n",
       "      <td>6.476684</td>\n",
       "      <td>6.476684</td>\n",
       "      <td>256.661067</td>\n",
       "      <td>254.329461</td>\n",
       "      <td>0</td>\n",
       "      <td>1</td>\n",
       "      <td>0</td>\n",
       "      <td>1</td>\n",
       "    </tr>\n",
       "    <tr>\n",
       "      <th>3</th>\n",
       "      <td>1</td>\n",
       "      <td>1</td>\n",
       "      <td>220</td>\n",
       "      <td>300.0</td>\n",
       "      <td>300.0</td>\n",
       "      <td>31</td>\n",
       "      <td>12</td>\n",
       "      <td>41620.0</td>\n",
       "      <td>99071.172</td>\n",
       "      <td>98171.172</td>\n",
       "      <td>2018-03-22T14:41:38.000000Z</td>\n",
       "      <td>2018-03-22T14:41:38.000000Z | 2018-03-22T14:41...</td>\n",
       "      <td>2018-07-23T14:03:08.000000Z | 2020-04-30T01:48...</td>\n",
       "      <td>0.0</td>\n",
       "      <td>118</td>\n",
       "      <td>31</td>\n",
       "      <td>220</td>\n",
       "      <td>1</td>\n",
       "      <td>0.0</td>\n",
       "      <td>1</td>\n",
       "      <td>NaN</td>\n",
       "      <td>NaN</td>\n",
       "      <td>NaN</td>\n",
       "      <td>NaN</td>\n",
       "      <td>NaN</td>\n",
       "      <td>NaN</td>\n",
       "      <td>matched (3)</td>\n",
       "      <td>matched (3)</td>\n",
       "      <td>0.777202</td>\n",
       "      <td>0.000000</td>\n",
       "      <td>256.661067</td>\n",
       "      <td>254.329461</td>\n",
       "      <td>0</td>\n",
       "      <td>1</td>\n",
       "      <td>0</td>\n",
       "      <td>1</td>\n",
       "    </tr>\n",
       "    <tr>\n",
       "      <th>4</th>\n",
       "      <td>1</td>\n",
       "      <td>1</td>\n",
       "      <td>274</td>\n",
       "      <td>1500.0</td>\n",
       "      <td>1500.0</td>\n",
       "      <td>31</td>\n",
       "      <td>11</td>\n",
       "      <td>41620.0</td>\n",
       "      <td>99071.172</td>\n",
       "      <td>98171.172</td>\n",
       "      <td>2018-03-22T14:41:38.000000Z</td>\n",
       "      <td>2018-03-22T14:41:38.000000Z | 2018-03-22T14:41...</td>\n",
       "      <td>2018-07-23T14:03:08.000000Z | 2020-04-30T01:48...</td>\n",
       "      <td>0.0</td>\n",
       "      <td>117</td>\n",
       "      <td>31</td>\n",
       "      <td>274</td>\n",
       "      <td>1</td>\n",
       "      <td>1500.0</td>\n",
       "      <td>1</td>\n",
       "      <td>NaN</td>\n",
       "      <td>NaN</td>\n",
       "      <td>NaN</td>\n",
       "      <td>NaN</td>\n",
       "      <td>NaN</td>\n",
       "      <td>NaN</td>\n",
       "      <td>matched (3)</td>\n",
       "      <td>matched (3)</td>\n",
       "      <td>3.886010</td>\n",
       "      <td>3.886010</td>\n",
       "      <td>256.661067</td>\n",
       "      <td>254.329461</td>\n",
       "      <td>0</td>\n",
       "      <td>1</td>\n",
       "      <td>0</td>\n",
       "      <td>1</td>\n",
       "    </tr>\n",
       "    <tr>\n",
       "      <th>...</th>\n",
       "      <td>...</td>\n",
       "      <td>...</td>\n",
       "      <td>...</td>\n",
       "      <td>...</td>\n",
       "      <td>...</td>\n",
       "      <td>...</td>\n",
       "      <td>...</td>\n",
       "      <td>...</td>\n",
       "      <td>...</td>\n",
       "      <td>...</td>\n",
       "      <td>...</td>\n",
       "      <td>...</td>\n",
       "      <td>...</td>\n",
       "      <td>...</td>\n",
       "      <td>...</td>\n",
       "      <td>...</td>\n",
       "      <td>...</td>\n",
       "      <td>...</td>\n",
       "      <td>...</td>\n",
       "      <td>...</td>\n",
       "      <td>...</td>\n",
       "      <td>...</td>\n",
       "      <td>...</td>\n",
       "      <td>...</td>\n",
       "      <td>...</td>\n",
       "      <td>...</td>\n",
       "      <td>...</td>\n",
       "      <td>...</td>\n",
       "      <td>...</td>\n",
       "      <td>...</td>\n",
       "      <td>...</td>\n",
       "      <td>...</td>\n",
       "      <td>...</td>\n",
       "      <td>...</td>\n",
       "      <td>...</td>\n",
       "      <td>...</td>\n",
       "    </tr>\n",
       "    <tr>\n",
       "      <th>330188</th>\n",
       "      <td>5</td>\n",
       "      <td>475</td>\n",
       "      <td>75952</td>\n",
       "      <td>1200.0</td>\n",
       "      <td>NaN</td>\n",
       "      <td>71003</td>\n",
       "      <td>3</td>\n",
       "      <td>151876.0</td>\n",
       "      <td>7060.000</td>\n",
       "      <td>2480.000</td>\n",
       "      <td>2020-03-16T10:33:31.000000Z</td>\n",
       "      <td>2020-03-16T10:33:31.000000Z | 2020-03-16T10:33...</td>\n",
       "      <td>2020-05-16T18:28:03.000000Z | 2020-05-16T18:28...</td>\n",
       "      <td>0.0</td>\n",
       "      <td>465672</td>\n",
       "      <td>71003</td>\n",
       "      <td>75952</td>\n",
       "      <td>1</td>\n",
       "      <td>800.0</td>\n",
       "      <td>1</td>\n",
       "      <td>NaN</td>\n",
       "      <td>NaN</td>\n",
       "      <td>NaN</td>\n",
       "      <td>NaN</td>\n",
       "      <td>NaN</td>\n",
       "      <td>NaN</td>\n",
       "      <td>NaN</td>\n",
       "      <td>using only (2)</td>\n",
       "      <td>3.108808</td>\n",
       "      <td>2.072539</td>\n",
       "      <td>18.290155</td>\n",
       "      <td>6.424870</td>\n",
       "      <td>0</td>\n",
       "      <td>1</td>\n",
       "      <td>0</td>\n",
       "      <td>1</td>\n",
       "    </tr>\n",
       "    <tr>\n",
       "      <th>330189</th>\n",
       "      <td>5</td>\n",
       "      <td>475</td>\n",
       "      <td>116309</td>\n",
       "      <td>240.0</td>\n",
       "      <td>NaN</td>\n",
       "      <td>70995</td>\n",
       "      <td>2</td>\n",
       "      <td>144310.0</td>\n",
       "      <td>5040.000</td>\n",
       "      <td>2195.000</td>\n",
       "      <td>2020-03-16T09:34:41.000000Z</td>\n",
       "      <td>2020-03-16T09:34:41.000000Z | 2020-03-16T09:34...</td>\n",
       "      <td>2020-05-26T22:47:05.000000Z | 2020-05-26T22:47...</td>\n",
       "      <td>0.0</td>\n",
       "      <td>465628</td>\n",
       "      <td>70995</td>\n",
       "      <td>116309</td>\n",
       "      <td>12</td>\n",
       "      <td>120.0</td>\n",
       "      <td>12</td>\n",
       "      <td>NaN</td>\n",
       "      <td>NaN</td>\n",
       "      <td>NaN</td>\n",
       "      <td>NaN</td>\n",
       "      <td>NaN</td>\n",
       "      <td>NaN</td>\n",
       "      <td>NaN</td>\n",
       "      <td>using only (2)</td>\n",
       "      <td>0.621762</td>\n",
       "      <td>0.310881</td>\n",
       "      <td>13.056995</td>\n",
       "      <td>5.686528</td>\n",
       "      <td>0</td>\n",
       "      <td>1</td>\n",
       "      <td>0</td>\n",
       "      <td>1</td>\n",
       "    </tr>\n",
       "    <tr>\n",
       "      <th>330190</th>\n",
       "      <td>5</td>\n",
       "      <td>475</td>\n",
       "      <td>116309</td>\n",
       "      <td>240.0</td>\n",
       "      <td>NaN</td>\n",
       "      <td>71233</td>\n",
       "      <td>2</td>\n",
       "      <td>148972.0</td>\n",
       "      <td>4440.000</td>\n",
       "      <td>2420.000</td>\n",
       "      <td>2020-03-25T13:25:40.000000Z</td>\n",
       "      <td>2020-03-25T13:25:40.000000Z | 2020-03-25T13:25...</td>\n",
       "      <td>2020-05-16T18:28:46.000000Z | 2020-05-16T18:28...</td>\n",
       "      <td>0.0</td>\n",
       "      <td>466968</td>\n",
       "      <td>71233</td>\n",
       "      <td>116309</td>\n",
       "      <td>12</td>\n",
       "      <td>120.0</td>\n",
       "      <td>12</td>\n",
       "      <td>NaN</td>\n",
       "      <td>NaN</td>\n",
       "      <td>NaN</td>\n",
       "      <td>NaN</td>\n",
       "      <td>NaN</td>\n",
       "      <td>NaN</td>\n",
       "      <td>NaN</td>\n",
       "      <td>using only (2)</td>\n",
       "      <td>0.621762</td>\n",
       "      <td>0.310881</td>\n",
       "      <td>11.502591</td>\n",
       "      <td>6.269430</td>\n",
       "      <td>0</td>\n",
       "      <td>1</td>\n",
       "      <td>0</td>\n",
       "      <td>1</td>\n",
       "    </tr>\n",
       "    <tr>\n",
       "      <th>330191</th>\n",
       "      <td>5</td>\n",
       "      <td>475</td>\n",
       "      <td>116309</td>\n",
       "      <td>240.0</td>\n",
       "      <td>NaN</td>\n",
       "      <td>71034</td>\n",
       "      <td>2</td>\n",
       "      <td>150375.0</td>\n",
       "      <td>4440.000</td>\n",
       "      <td>2420.000</td>\n",
       "      <td>2020-03-16T12:20:14.000000Z</td>\n",
       "      <td>2020-03-16T12:20:14.000000Z | 2020-03-16T12:20...</td>\n",
       "      <td>2020-03-26T09:22:23.000000Z | 2020-03-26T09:22...</td>\n",
       "      <td>0.0</td>\n",
       "      <td>465827</td>\n",
       "      <td>71034</td>\n",
       "      <td>116309</td>\n",
       "      <td>12</td>\n",
       "      <td>120.0</td>\n",
       "      <td>12</td>\n",
       "      <td>NaN</td>\n",
       "      <td>NaN</td>\n",
       "      <td>NaN</td>\n",
       "      <td>NaN</td>\n",
       "      <td>NaN</td>\n",
       "      <td>NaN</td>\n",
       "      <td>NaN</td>\n",
       "      <td>using only (2)</td>\n",
       "      <td>0.621762</td>\n",
       "      <td>0.310881</td>\n",
       "      <td>11.502591</td>\n",
       "      <td>6.269430</td>\n",
       "      <td>0</td>\n",
       "      <td>1</td>\n",
       "      <td>0</td>\n",
       "      <td>1</td>\n",
       "    </tr>\n",
       "    <tr>\n",
       "      <th>330192</th>\n",
       "      <td>5</td>\n",
       "      <td>475</td>\n",
       "      <td>116309</td>\n",
       "      <td>360.0</td>\n",
       "      <td>NaN</td>\n",
       "      <td>71003</td>\n",
       "      <td>2</td>\n",
       "      <td>151876.0</td>\n",
       "      <td>7060.000</td>\n",
       "      <td>2480.000</td>\n",
       "      <td>2020-03-16T10:33:31.000000Z</td>\n",
       "      <td>2020-03-16T10:33:31.000000Z | 2020-03-16T10:33...</td>\n",
       "      <td>2020-05-16T18:28:03.000000Z | 2020-05-16T18:28...</td>\n",
       "      <td>0.0</td>\n",
       "      <td>465671</td>\n",
       "      <td>71003</td>\n",
       "      <td>116309</td>\n",
       "      <td>18</td>\n",
       "      <td>180.0</td>\n",
       "      <td>18</td>\n",
       "      <td>NaN</td>\n",
       "      <td>NaN</td>\n",
       "      <td>NaN</td>\n",
       "      <td>NaN</td>\n",
       "      <td>8255.0</td>\n",
       "      <td>A020</td>\n",
       "      <td>NaN</td>\n",
       "      <td>using only (2)</td>\n",
       "      <td>0.932642</td>\n",
       "      <td>0.466321</td>\n",
       "      <td>18.290155</td>\n",
       "      <td>6.424870</td>\n",
       "      <td>0</td>\n",
       "      <td>1</td>\n",
       "      <td>0</td>\n",
       "      <td>1</td>\n",
       "    </tr>\n",
       "  </tbody>\n",
       "</table>\n",
       "<p>330114 rows × 36 columns</p>\n",
       "</div>"
      ],
      "text/plain": [
       "        hmo_id  provider_id  care_id  claim_items_amount  amount     id   j  \\\n",
       "0            1            1       13              5000.0  5000.0     17   1   \n",
       "1            1            1       14              2500.0  2500.0     18   1   \n",
       "2            1            1      177              2500.0  2500.0     31  10   \n",
       "3            1            1      220               300.0   300.0     31  12   \n",
       "4            1            1      274              1500.0  1500.0     31  11   \n",
       "...        ...          ...      ...                 ...     ...    ...  ..   \n",
       "330188       5          475    75952              1200.0     NaN  71003   3   \n",
       "330189       5          475   116309               240.0     NaN  70995   2   \n",
       "330190       5          475   116309               240.0     NaN  71233   2   \n",
       "330191       5          475   116309               240.0     NaN  71034   2   \n",
       "330192       5          475   116309               360.0     NaN  71003   2   \n",
       "\n",
       "        enrollee_id  total_amount  approved_amount  \\\n",
       "0           41565.0     34671.172        31671.170   \n",
       "1             101.0      2500.000         2500.000   \n",
       "2           41620.0     99071.172        98171.172   \n",
       "3           41620.0     99071.172        98171.172   \n",
       "4           41620.0     99071.172        98171.172   \n",
       "...             ...           ...              ...   \n",
       "330188     151876.0      7060.000         2480.000   \n",
       "330189     144310.0      5040.000         2195.000   \n",
       "330190     148972.0      4440.000         2420.000   \n",
       "330191     150375.0      4440.000         2420.000   \n",
       "330192     151876.0      7060.000         2480.000   \n",
       "\n",
       "                         created_at  \\\n",
       "0       2018-03-16T11:02:58.000000Z   \n",
       "1       2018-03-16T11:05:56.000000Z   \n",
       "2       2018-03-22T14:41:38.000000Z   \n",
       "3       2018-03-22T14:41:38.000000Z   \n",
       "4       2018-03-22T14:41:38.000000Z   \n",
       "...                             ...   \n",
       "330188  2020-03-16T10:33:31.000000Z   \n",
       "330189  2020-03-16T09:34:41.000000Z   \n",
       "330190  2020-03-25T13:25:40.000000Z   \n",
       "330191  2020-03-16T12:20:14.000000Z   \n",
       "330192  2020-03-16T10:33:31.000000Z   \n",
       "\n",
       "                                   claim_items_created_at  \\\n",
       "0       2018-03-16T11:02:58.000000Z | 2018-03-16T11:02...   \n",
       "1                             2018-03-16T11:05:56.000000Z   \n",
       "2       2018-03-22T14:41:38.000000Z | 2018-03-22T14:41...   \n",
       "3       2018-03-22T14:41:38.000000Z | 2018-03-22T14:41...   \n",
       "4       2018-03-22T14:41:38.000000Z | 2018-03-22T14:41...   \n",
       "...                                                   ...   \n",
       "330188  2020-03-16T10:33:31.000000Z | 2020-03-16T10:33...   \n",
       "330189  2020-03-16T09:34:41.000000Z | 2020-03-16T09:34...   \n",
       "330190  2020-03-25T13:25:40.000000Z | 2020-03-25T13:25...   \n",
       "330191  2020-03-16T12:20:14.000000Z | 2020-03-16T12:20...   \n",
       "330192  2020-03-16T10:33:31.000000Z | 2020-03-16T10:33...   \n",
       "\n",
       "                                   claim_items_updated_at  hmo_statusnew  \\\n",
       "0       2018-05-21T10:17:04.000000Z | 2018-05-21T10:17...            0.0   \n",
       "1                             2018-05-21T10:17:18.000000Z            0.0   \n",
       "2       2018-07-23T14:03:08.000000Z | 2020-04-30T01:48...            0.0   \n",
       "3       2018-07-23T14:03:08.000000Z | 2020-04-30T01:48...            0.0   \n",
       "4       2018-07-23T14:03:08.000000Z | 2020-04-30T01:48...            0.0   \n",
       "...                                                   ...            ...   \n",
       "330188  2020-05-16T18:28:03.000000Z | 2020-05-16T18:28...            0.0   \n",
       "330189  2020-05-26T22:47:05.000000Z | 2020-05-26T22:47...            0.0   \n",
       "330190  2020-05-16T18:28:46.000000Z | 2020-05-16T18:28...            0.0   \n",
       "330191  2020-03-26T09:22:23.000000Z | 2020-03-26T09:22...            0.0   \n",
       "330192  2020-05-16T18:28:03.000000Z | 2020-05-16T18:28...            0.0   \n",
       "\n",
       "        claim_items_id  claim_items_claim_id  claim_items_care_id  \\\n",
       "0                   66                    17                   13   \n",
       "1                   73                    18                   14   \n",
       "2                  116                    31                  177   \n",
       "3                  118                    31                  220   \n",
       "4                  117                    31                  274   \n",
       "...                ...                   ...                  ...   \n",
       "330188          465672                 71003                75952   \n",
       "330189          465628                 70995               116309   \n",
       "330190          466968                 71233               116309   \n",
       "330191          465827                 71034               116309   \n",
       "330192          465671                 71003               116309   \n",
       "\n",
       "        claim_items_qty  claim_items_approved_amount  \\\n",
       "0                     1                       5000.0   \n",
       "1                     1                       2500.0   \n",
       "2                     1                       2500.0   \n",
       "3                     1                          0.0   \n",
       "4                     1                       1500.0   \n",
       "...                 ...                          ...   \n",
       "330188                1                        800.0   \n",
       "330189               12                        120.0   \n",
       "330190               12                        120.0   \n",
       "330191               12                        120.0   \n",
       "330192               18                        180.0   \n",
       "\n",
       "        claim_items_approved_qty  claim_items_drug_frequency  \\\n",
       "0                              1                         NaN   \n",
       "1                              1                         NaN   \n",
       "2                              1                         NaN   \n",
       "3                              1                         NaN   \n",
       "4                              1                         NaN   \n",
       "...                          ...                         ...   \n",
       "330188                         1                         NaN   \n",
       "330189                        12                         NaN   \n",
       "330190                        12                         NaN   \n",
       "330191                        12                         NaN   \n",
       "330192                        18                         NaN   \n",
       "\n",
       "        claim_items_drug_duration  claim_items_drug_duration_sub  \\\n",
       "0                             NaN                            NaN   \n",
       "1                             NaN                            NaN   \n",
       "2                             NaN                            NaN   \n",
       "3                             NaN                            NaN   \n",
       "4                             NaN                            NaN   \n",
       "...                           ...                            ...   \n",
       "330188                        NaN                            NaN   \n",
       "330189                        NaN                            NaN   \n",
       "330190                        NaN                            NaN   \n",
       "330191                        NaN                            NaN   \n",
       "330192                        NaN                            NaN   \n",
       "\n",
       "        claim_items_tariff_id  diagnoses_id diagnoses_icd_code    _mergeold  \\\n",
       "0                         NaN       16534.0             H26222  matched (3)   \n",
       "1                         NaN        2090.0                NaN  matched (3)   \n",
       "2                         NaN           NaN                NaN  matched (3)   \n",
       "3                         NaN           NaN                NaN  matched (3)   \n",
       "4                         NaN           NaN                NaN  matched (3)   \n",
       "...                       ...           ...                ...          ...   \n",
       "330188                    NaN           NaN                NaN          NaN   \n",
       "330189                    NaN           NaN                NaN          NaN   \n",
       "330190                    NaN           NaN                NaN          NaN   \n",
       "330191                    NaN           NaN                NaN          NaN   \n",
       "330192                    NaN        8255.0               A020          NaN   \n",
       "\n",
       "                _merge  claim_items_amountusd  claim_items_approved_amountusd  \\\n",
       "0          matched (3)              12.953368                       12.953368   \n",
       "1          matched (3)               6.476684                        6.476684   \n",
       "2          matched (3)               6.476684                        6.476684   \n",
       "3          matched (3)               0.777202                        0.000000   \n",
       "4          matched (3)               3.886010                        3.886010   \n",
       "...                ...                    ...                             ...   \n",
       "330188  using only (2)               3.108808                        2.072539   \n",
       "330189  using only (2)               0.621762                        0.310881   \n",
       "330190  using only (2)               0.621762                        0.310881   \n",
       "330191  using only (2)               0.621762                        0.310881   \n",
       "330192  using only (2)               0.932642                        0.466321   \n",
       "\n",
       "        total_amountusd  approved_amountusd  claim_items_hmo_approved_-1  \\\n",
       "0             89.821689           82.049663                            0   \n",
       "1              6.476684            6.476684                            0   \n",
       "2            256.661067          254.329461                            0   \n",
       "3            256.661067          254.329461                            0   \n",
       "4            256.661067          254.329461                            0   \n",
       "...                 ...                 ...                          ...   \n",
       "330188        18.290155            6.424870                            0   \n",
       "330189        13.056995            5.686528                            0   \n",
       "330190        11.502591            6.269430                            0   \n",
       "330191        11.502591            6.269430                            0   \n",
       "330192        18.290155            6.424870                            0   \n",
       "\n",
       "        claim_items_hmo_approved_1  hmo_status_-1.0  hmo_status_1.0  \n",
       "0                                1                0               1  \n",
       "1                                1                0               1  \n",
       "2                                1                0               1  \n",
       "3                                1                0               1  \n",
       "4                                1                0               1  \n",
       "...                            ...              ...             ...  \n",
       "330188                           1                0               1  \n",
       "330189                           1                0               1  \n",
       "330190                           1                0               1  \n",
       "330191                           1                0               1  \n",
       "330192                           1                0               1  \n",
       "\n",
       "[330114 rows x 36 columns]"
      ]
     },
     "execution_count": 106,
     "metadata": {},
     "output_type": "execute_result"
    }
   ],
   "source": [
    "#Check whether the variables are included in the dataframe \n",
    "df"
   ]
  },
  {
   "cell_type": "markdown",
   "metadata": {},
   "source": [
    "# B. Classification models"
   ]
  },
  {
   "cell_type": "markdown",
   "metadata": {},
   "source": [
    "## RandomForest"
   ]
  },
  {
   "cell_type": "code",
   "execution_count": 147,
   "metadata": {},
   "outputs": [
    {
     "data": {
      "text/plain": [
       "hmo_id                                 0\n",
       "provider_id                            0\n",
       "care_id                                0\n",
       "claim_items_amount                     0\n",
       "amount                            289250\n",
       "id                                     0\n",
       "j                                      0\n",
       "enrollee_id                            0\n",
       "total_amount                           0\n",
       "approved_amount                        0\n",
       "created_at                             0\n",
       "claim_items_created_at                 0\n",
       "claim_items_updated_at                 0\n",
       "hmo_statusnew                         33\n",
       "claim_items_id                         0\n",
       "claim_items_claim_id                   0\n",
       "claim_items_care_id                    0\n",
       "claim_items_qty                        0\n",
       "claim_items_approved_amount            0\n",
       "claim_items_approved_qty               0\n",
       "claim_items_drug_frequency        324225\n",
       "claim_items_drug_duration         324294\n",
       "claim_items_drug_duration_sub     324353\n",
       "claim_items_tariff_id             330061\n",
       "diagnoses_id                      206347\n",
       "diagnoses_icd_code                284074\n",
       "_mergeold                         285508\n",
       "_merge                                 0\n",
       "claim_items_amountusd                  0\n",
       "claim_items_approved_amountusd         0\n",
       "total_amountusd                        0\n",
       "approved_amountusd                     0\n",
       "claim_items_hmo_approved_-1            0\n",
       "claim_items_hmo_approved_1             0\n",
       "hmo_status_-1.0                        0\n",
       "hmo_status_1.0                         0\n",
       "adjusted_amountusd                     0\n",
       "dtype: int64"
      ]
     },
     "execution_count": 147,
     "metadata": {},
     "output_type": "execute_result"
    }
   ],
   "source": [
    "#Doubel check missing values\n",
    "df.isna().sum()"
   ]
  },
  {
   "cell_type": "code",
   "execution_count": 148,
   "metadata": {},
   "outputs": [],
   "source": [
    "rfc = RandomForestClassifier(n_estimators=100, random_state = 42)"
   ]
  },
  {
   "cell_type": "code",
   "execution_count": 149,
   "metadata": {},
   "outputs": [],
   "source": [
    "X = dfcopy[[\"total_amountusd\", \"claim_items_amountusd\", \"claim_items_qty\", \n",
    "            \"claim_items_care_id\", \n",
    "            \"hmo_id\", \"provider_id\", \"enrollee_id\", \"care_id\", \"claim_items_id\",\n",
    "           \"claim_items_claim_id\"]]\n",
    "y = dfcopy[\"hmo_status_-1.0\"]"
   ]
  },
  {
   "cell_type": "code",
   "execution_count": 150,
   "metadata": {},
   "outputs": [],
   "source": [
    "X_train, X_test, y_train, y_test = train_test_split(X, y, test_size=0.2, random_state=0)"
   ]
  },
  {
   "cell_type": "code",
   "execution_count": 151,
   "metadata": {},
   "outputs": [
    {
     "data": {
      "text/plain": [
       "RandomForestClassifier(random_state=42)"
      ]
     },
     "execution_count": 151,
     "metadata": {},
     "output_type": "execute_result"
    }
   ],
   "source": [
    "rfc.fit(X_train,y_train)"
   ]
  },
  {
   "cell_type": "code",
   "execution_count": 134,
   "metadata": {},
   "outputs": [],
   "source": [
    "rfc_predict = rfc.predict(X_test)"
   ]
  },
  {
   "cell_type": "code",
   "execution_count": 135,
   "metadata": {},
   "outputs": [
    {
     "data": {
      "text/plain": [
       "array([[65441,    11],\n",
       "       [  159,   412]])"
      ]
     },
     "execution_count": 135,
     "metadata": {},
     "output_type": "execute_result"
    }
   ],
   "source": [
    "confusion_matrix(y_test, rfc_predict)"
   ]
  },
  {
   "cell_type": "code",
   "execution_count": 136,
   "metadata": {},
   "outputs": [
    {
     "data": {
      "image/png": "[encoded data removed]",
      "text/plain": [
       "<Figure size 432x288 with 2 Axes>"
      ]
     },
     "metadata": {},
     "output_type": "display_data"
    }
   ],
   "source": [
    "y_pre = rfc.predict(X_test)\n",
    "\n",
    "cm = confusion_matrix(y_test, y_pre)\n",
    "\n",
    "cm_display = ConfusionMatrixDisplay(cm).plot()"
   ]
  },
  {
   "cell_type": "code",
   "execution_count": 137,
   "metadata": {
    "scrolled": false
   },
   "outputs": [
    {
     "name": "stdout",
     "output_type": "stream",
     "text": [
      "              precision    recall  f1-score   support\n",
      "\n",
      "           0       1.00      1.00      1.00     65452\n",
      "           1       0.97      0.72      0.83       571\n",
      "\n",
      "    accuracy                           1.00     66023\n",
      "   macro avg       0.99      0.86      0.91     66023\n",
      "weighted avg       1.00      1.00      1.00     66023\n",
      "\n"
     ]
    }
   ],
   "source": [
    "print(classification_report(y_test,y_pre))"
   ]
  },
  {
   "cell_type": "code",
   "execution_count": 138,
   "metadata": {},
   "outputs": [],
   "source": [
    "importance = rfc.feature_importances_"
   ]
  },
  {
   "cell_type": "code",
   "execution_count": 139,
   "metadata": {},
   "outputs": [
    {
     "name": "stdout",
     "output_type": "stream",
     "text": [
      "Feature: 0, Score: 0.13359\n",
      "Feature: 1, Score: 0.03795\n",
      "Feature: 2, Score: 0.02361\n",
      "Feature: 3, Score: 0.05075\n",
      "Feature: 4, Score: 0.00158\n",
      "Feature: 5, Score: 0.13369\n",
      "Feature: 6, Score: 0.12940\n",
      "Feature: 7, Score: 0.05046\n",
      "Feature: 8, Score: 0.22298\n",
      "Feature: 9, Score: 0.21599\n"
     ]
    },
    {
     "data": {
      "image/png": "[encoded data removed]",
      "text/plain": [
       "<Figure size 432x288 with 1 Axes>"
      ]
     },
     "metadata": {},
     "output_type": "display_data"
    }
   ],
   "source": [
    "for i,v in enumerate(importance):\n",
    "    print('Feature: %0d, Score: %.5f' % (i,v))\n",
    "# plot feature importance\n",
    "plt.bar([x for x in range(len(importance))], importance)\n",
    "plt.show()"
   ]
  },
  {
   "cell_type": "code",
   "execution_count": 140,
   "metadata": {},
   "outputs": [
    {
     "data": {
      "image/png": "[encoded data removed]",
      "text/plain": [
       "<Figure size 432x288 with 1 Axes>"
      ]
     },
     "metadata": {},
     "output_type": "display_data"
    }
   ],
   "source": [
    "from sklearn.metrics import plot_roc_curve\n",
    "ax = plt.gca()\n",
    "rfc_disp = plot_roc_curve(rfc, X_test, y_test, ax=ax, alpha=0.8)\n",
    "plt.show()"
   ]
  },
  {
   "cell_type": "code",
   "execution_count": 141,
   "metadata": {},
   "outputs": [],
   "source": [
    "#Run SMOTE to deal with class imbalance\n",
    "from collections import Counter\n",
    "from sklearn.datasets import make_classification\n",
    "from imblearn.over_sampling import SMOTE\n",
    "from sklearn.model_selection import StratifiedKFold\n",
    "\n",
    "from sklearn.datasets import make_classification\n",
    "from sklearn.neighbors import KNeighborsClassifier\n",
    "from sklearn.ensemble import RandomForestClassifier\n",
    "from sklearn.model_selection import train_test_split\n",
    "from sklearn.metrics import roc_curve\n",
    "from sklearn.metrics import roc_auc_score\n",
    "from sklearn.preprocessing import label_binarize"
   ]
  },
  {
   "cell_type": "code",
   "execution_count": 142,
   "metadata": {},
   "outputs": [
    {
     "name": "stdout",
     "output_type": "stream",
     "text": [
      "Resampled dataset shape Counter({0: 261982, 1: 261982})\n"
     ]
    }
   ],
   "source": [
    "sm = SMOTE(random_state=42)\n",
    "X_res, y_res = sm.fit_resample(X_train, y_train)\n",
    "\n",
    "print('Resampled dataset shape %s' % Counter(y_res))"
   ]
  },
  {
   "cell_type": "code",
   "execution_count": 143,
   "metadata": {},
   "outputs": [
    {
     "data": {
      "text/plain": [
       "261982"
      ]
     },
     "execution_count": 143,
     "metadata": {},
     "output_type": "execute_result"
    }
   ],
   "source": [
    "len(y_res[y_res==1])"
   ]
  },
  {
   "cell_type": "code",
   "execution_count": 144,
   "metadata": {},
   "outputs": [
    {
     "data": {
      "text/plain": [
       "RandomForestClassifier(random_state=0)"
      ]
     },
     "execution_count": 144,
     "metadata": {},
     "output_type": "execute_result"
    }
   ],
   "source": [
    "#random forest after SMOTE\n",
    "clf=RandomForestClassifier(random_state=0)\n",
    "clf.fit(X_res,y_res)"
   ]
  },
  {
   "cell_type": "code",
   "execution_count": 57,
   "metadata": {},
   "outputs": [],
   "source": [
    "actual = y_test\n",
    "predictions=clf.predict(X_test)"
   ]
  },
  {
   "cell_type": "code",
   "execution_count": 58,
   "metadata": {},
   "outputs": [
    {
     "data": {
      "text/plain": [
       "array([[65358,    94],\n",
       "       [  137,   434]])"
      ]
     },
     "execution_count": 58,
     "metadata": {},
     "output_type": "execute_result"
    }
   ],
   "source": [
    "confusion_matrix(actual,predictions)"
   ]
  },
  {
   "cell_type": "code",
   "execution_count": 67,
   "metadata": {},
   "outputs": [
    {
     "data": {
      "image/png": "[encoded data removed]",
      "text/plain": [
       "<Figure size 432x288 with 2 Axes>"
      ]
     },
     "metadata": {
      "needs_background": "light"
     },
     "output_type": "display_data"
    }
   ],
   "source": [
    "cm = confusion_matrix(actual, predictions)\n",
    "\n",
    "cm_display = ConfusionMatrixDisplay(cm).plot(cmap= \"YlGnBu\")"
   ]
  },
  {
   "cell_type": "code",
   "execution_count": 68,
   "metadata": {},
   "outputs": [
    {
     "data": {
      "text/plain": [
       "<function matplotlib.pyplot.show(*args, **kw)>"
      ]
     },
     "execution_count": 68,
     "metadata": {},
     "output_type": "execute_result"
    },
    {
     "data": {
      "image/png": "[encoded data removed]",
      "text/plain": [
       "<Figure size 432x288 with 2 Axes>"
      ]
     },
     "metadata": {
      "needs_background": "light"
     },
     "output_type": "display_data"
    }
   ],
   "source": [
    "#Normalized confusion matrix\n",
    "plot_confusion_matrix(clf, X_test, y_test, normalize = 'true', cmap= 'YlGnBu' )\n",
    "plt.show"
   ]
  },
  {
   "cell_type": "code",
   "execution_count": 65,
   "metadata": {},
   "outputs": [
    {
     "name": "stdout",
     "output_type": "stream",
     "text": [
      "0.879316942788678\n"
     ]
    }
   ],
   "source": [
    "from sklearn.metrics import roc_curve, auc\n",
    "\n",
    "false_positive_rate, true_positive_rate, thresholds = roc_curve(actual, predictions)\n",
    "roc_auc = auc(false_positive_rate, true_positive_rate)\n",
    "print (roc_auc)"
   ]
  },
  {
   "cell_type": "code",
   "execution_count": 64,
   "metadata": {},
   "outputs": [
    {
     "data": {
      "text/plain": [
       "Text(0.5, 0, 'False Positive Rate')"
      ]
     },
     "execution_count": 64,
     "metadata": {},
     "output_type": "execute_result"
    },
    {
     "data": {
      "image/png": "[encoded data removed]",
      "text/plain": [
       "<Figure size 432x288 with 1 Axes>"
      ]
     },
     "metadata": {
      "needs_background": "light"
     },
     "output_type": "display_data"
    }
   ],
   "source": [
    "plt.title('Receiver Operating Characteristic')\n",
    "plt.plot(false_positive_rate, true_positive_rate, 'b', label='AUC = %0.2f'% roc_auc)\n",
    "plt.legend(loc='lower right')\n",
    "plt.plot([0,1],[0,1],'r--')\n",
    "plt.xlim([-0.1,1.2])\n",
    "plt.ylim([-0.1,1.2])\n",
    "plt.ylabel('True Positive Rate')\n",
    "plt.xlabel('False Positive Rate')"
   ]
  },
  {
   "cell_type": "markdown",
   "metadata": {},
   "source": [
    "# C. Cost-adjustment model"
   ]
  },
  {
   "cell_type": "markdown",
   "metadata": {},
   "source": [
    "### Prepare dataset for linear regression"
   ]
  },
  {
   "cell_type": "code",
   "execution_count": 260,
   "metadata": {},
   "outputs": [],
   "source": [
    "#Create a new feature to consider the adjusted amount\n",
    "df[\"adjusted_amountusd\"] = df[\"total_amountusd\"]- df[\"approved_amountusd\"]"
   ]
  },
  {
   "cell_type": "code",
   "execution_count": 261,
   "metadata": {},
   "outputs": [
    {
     "data": {
      "text/plain": [
       "['hmo_id',\n",
       " 'provider_id',\n",
       " 'care_id',\n",
       " 'claim_items_amount',\n",
       " 'amount',\n",
       " 'id',\n",
       " 'j',\n",
       " 'enrollee_id',\n",
       " 'total_amount',\n",
       " 'approved_amount',\n",
       " 'created_at',\n",
       " 'claim_items_created_at',\n",
       " 'claim_items_updated_at',\n",
       " 'hmo_statusnew',\n",
       " 'claim_items_id',\n",
       " 'claim_items_claim_id',\n",
       " 'claim_items_care_id',\n",
       " 'claim_items_qty',\n",
       " 'claim_items_approved_amount',\n",
       " 'claim_items_approved_qty',\n",
       " 'claim_items_drug_frequency',\n",
       " 'claim_items_drug_duration',\n",
       " 'claim_items_drug_duration_sub',\n",
       " 'claim_items_tariff_id',\n",
       " 'diagnoses_id',\n",
       " 'diagnoses_icd_code',\n",
       " '_mergeold',\n",
       " '_merge',\n",
       " 'claim_items_amountusd',\n",
       " 'claim_items_approved_amountusd',\n",
       " 'total_amountusd',\n",
       " 'approved_amountusd',\n",
       " 'claim_items_hmo_approved_-1',\n",
       " 'claim_items_hmo_approved_1',\n",
       " 'hmo_status_-1.0',\n",
       " 'hmo_status_1.0',\n",
       " 'adjusted_amountusd',\n",
       " 'claim_items_adjusted_amountusd']"
      ]
     },
     "execution_count": 261,
     "metadata": {},
     "output_type": "execute_result"
    }
   ],
   "source": [
    "list(df.columns)"
   ]
  },
  {
   "cell_type": "code",
   "execution_count": 262,
   "metadata": {},
   "outputs": [],
   "source": [
    "#Create a new dataframe with a few features\n",
    "dfad = df[['adjusted_amountusd', 'approved_amountusd', 'total_amountusd', 'hmo_id', \"provider_id\", \"care_id\",\n",
    "          \"claim_items_amount\", \"claim_items_care_id\", \"claim_items_qty\", \"claim_items_amountusd\", \"enrollee_id\",\n",
    "            \"claim_items_approved_amountusd\",\"claim_items_id\", \"claim_items_claim_id\"]].copy()"
   ]
  },
  {
   "cell_type": "code",
   "execution_count": 263,
   "metadata": {},
   "outputs": [],
   "source": [
    "#Drop rows with claims that did not go through any adjustment\n",
    "dfad.drop(dfad.loc[df['adjusted_amountusd']==0].index, inplace=True)"
   ]
  },
  {
   "cell_type": "code",
   "execution_count": 264,
   "metadata": {},
   "outputs": [],
   "source": [
    "#Drop rows with negative claims adjustment\n",
    "dfad.drop(dfad.loc[df['adjusted_amountusd']<0].index, inplace=True)"
   ]
  },
  {
   "cell_type": "code",
   "execution_count": 265,
   "metadata": {},
   "outputs": [
    {
     "data": {
      "text/html": [
       "<div>\n",
       "<style scoped>\n",
       "    .dataframe tbody tr th:only-of-type {\n",
       "        vertical-align: middle;\n",
       "    }\n",
       "\n",
       "    .dataframe tbody tr th {\n",
       "        vertical-align: top;\n",
       "    }\n",
       "\n",
       "    .dataframe thead th {\n",
       "        text-align: right;\n",
       "    }\n",
       "</style>\n",
       "<table border=\"1\" class=\"dataframe\">\n",
       "  <thead>\n",
       "    <tr style=\"text-align: right;\">\n",
       "      <th></th>\n",
       "      <th>adjusted_amountusd</th>\n",
       "      <th>approved_amountusd</th>\n",
       "      <th>total_amountusd</th>\n",
       "      <th>hmo_id</th>\n",
       "      <th>provider_id</th>\n",
       "      <th>care_id</th>\n",
       "      <th>claim_items_amount</th>\n",
       "      <th>claim_items_care_id</th>\n",
       "      <th>claim_items_qty</th>\n",
       "      <th>claim_items_amountusd</th>\n",
       "      <th>enrollee_id</th>\n",
       "      <th>claim_items_approved_amountusd</th>\n",
       "      <th>claim_items_id</th>\n",
       "      <th>claim_items_claim_id</th>\n",
       "    </tr>\n",
       "  </thead>\n",
       "  <tbody>\n",
       "    <tr>\n",
       "      <th>0</th>\n",
       "      <td>7.772026</td>\n",
       "      <td>82.049663</td>\n",
       "      <td>89.821689</td>\n",
       "      <td>1</td>\n",
       "      <td>1</td>\n",
       "      <td>13</td>\n",
       "      <td>5000.0</td>\n",
       "      <td>13</td>\n",
       "      <td>1</td>\n",
       "      <td>12.953368</td>\n",
       "      <td>41565.0</td>\n",
       "      <td>12.953368</td>\n",
       "      <td>66</td>\n",
       "      <td>17</td>\n",
       "    </tr>\n",
       "    <tr>\n",
       "      <th>2</th>\n",
       "      <td>2.331606</td>\n",
       "      <td>254.329461</td>\n",
       "      <td>256.661067</td>\n",
       "      <td>1</td>\n",
       "      <td>1</td>\n",
       "      <td>177</td>\n",
       "      <td>2500.0</td>\n",
       "      <td>177</td>\n",
       "      <td>1</td>\n",
       "      <td>6.476684</td>\n",
       "      <td>41620.0</td>\n",
       "      <td>6.476684</td>\n",
       "      <td>116</td>\n",
       "      <td>31</td>\n",
       "    </tr>\n",
       "    <tr>\n",
       "      <th>3</th>\n",
       "      <td>2.331606</td>\n",
       "      <td>254.329461</td>\n",
       "      <td>256.661067</td>\n",
       "      <td>1</td>\n",
       "      <td>1</td>\n",
       "      <td>220</td>\n",
       "      <td>300.0</td>\n",
       "      <td>220</td>\n",
       "      <td>1</td>\n",
       "      <td>0.777202</td>\n",
       "      <td>41620.0</td>\n",
       "      <td>0.000000</td>\n",
       "      <td>118</td>\n",
       "      <td>31</td>\n",
       "    </tr>\n",
       "    <tr>\n",
       "      <th>4</th>\n",
       "      <td>2.331606</td>\n",
       "      <td>254.329461</td>\n",
       "      <td>256.661067</td>\n",
       "      <td>1</td>\n",
       "      <td>1</td>\n",
       "      <td>274</td>\n",
       "      <td>1500.0</td>\n",
       "      <td>274</td>\n",
       "      <td>1</td>\n",
       "      <td>3.886010</td>\n",
       "      <td>41620.0</td>\n",
       "      <td>3.886010</td>\n",
       "      <td>117</td>\n",
       "      <td>31</td>\n",
       "    </tr>\n",
       "    <tr>\n",
       "      <th>9</th>\n",
       "      <td>7.772026</td>\n",
       "      <td>82.049663</td>\n",
       "      <td>89.821689</td>\n",
       "      <td>1</td>\n",
       "      <td>1</td>\n",
       "      <td>1176</td>\n",
       "      <td>14400.0</td>\n",
       "      <td>1176</td>\n",
       "      <td>9</td>\n",
       "      <td>37.305699</td>\n",
       "      <td>41565.0</td>\n",
       "      <td>37.305699</td>\n",
       "      <td>70</td>\n",
       "      <td>17</td>\n",
       "    </tr>\n",
       "    <tr>\n",
       "      <th>...</th>\n",
       "      <td>...</td>\n",
       "      <td>...</td>\n",
       "      <td>...</td>\n",
       "      <td>...</td>\n",
       "      <td>...</td>\n",
       "      <td>...</td>\n",
       "      <td>...</td>\n",
       "      <td>...</td>\n",
       "      <td>...</td>\n",
       "      <td>...</td>\n",
       "      <td>...</td>\n",
       "      <td>...</td>\n",
       "      <td>...</td>\n",
       "      <td>...</td>\n",
       "    </tr>\n",
       "    <tr>\n",
       "      <th>330188</th>\n",
       "      <td>11.865285</td>\n",
       "      <td>6.424870</td>\n",
       "      <td>18.290155</td>\n",
       "      <td>5</td>\n",
       "      <td>475</td>\n",
       "      <td>75952</td>\n",
       "      <td>1200.0</td>\n",
       "      <td>75952</td>\n",
       "      <td>1</td>\n",
       "      <td>3.108808</td>\n",
       "      <td>151876.0</td>\n",
       "      <td>2.072539</td>\n",
       "      <td>465672</td>\n",
       "      <td>71003</td>\n",
       "    </tr>\n",
       "    <tr>\n",
       "      <th>330189</th>\n",
       "      <td>7.370466</td>\n",
       "      <td>5.686528</td>\n",
       "      <td>13.056995</td>\n",
       "      <td>5</td>\n",
       "      <td>475</td>\n",
       "      <td>116309</td>\n",
       "      <td>240.0</td>\n",
       "      <td>116309</td>\n",
       "      <td>12</td>\n",
       "      <td>0.621762</td>\n",
       "      <td>144310.0</td>\n",
       "      <td>0.310881</td>\n",
       "      <td>465628</td>\n",
       "      <td>70995</td>\n",
       "    </tr>\n",
       "    <tr>\n",
       "      <th>330190</th>\n",
       "      <td>5.233161</td>\n",
       "      <td>6.269430</td>\n",
       "      <td>11.502591</td>\n",
       "      <td>5</td>\n",
       "      <td>475</td>\n",
       "      <td>116309</td>\n",
       "      <td>240.0</td>\n",
       "      <td>116309</td>\n",
       "      <td>12</td>\n",
       "      <td>0.621762</td>\n",
       "      <td>148972.0</td>\n",
       "      <td>0.310881</td>\n",
       "      <td>466968</td>\n",
       "      <td>71233</td>\n",
       "    </tr>\n",
       "    <tr>\n",
       "      <th>330191</th>\n",
       "      <td>5.233161</td>\n",
       "      <td>6.269430</td>\n",
       "      <td>11.502591</td>\n",
       "      <td>5</td>\n",
       "      <td>475</td>\n",
       "      <td>116309</td>\n",
       "      <td>240.0</td>\n",
       "      <td>116309</td>\n",
       "      <td>12</td>\n",
       "      <td>0.621762</td>\n",
       "      <td>150375.0</td>\n",
       "      <td>0.310881</td>\n",
       "      <td>465827</td>\n",
       "      <td>71034</td>\n",
       "    </tr>\n",
       "    <tr>\n",
       "      <th>330192</th>\n",
       "      <td>11.865285</td>\n",
       "      <td>6.424870</td>\n",
       "      <td>18.290155</td>\n",
       "      <td>5</td>\n",
       "      <td>475</td>\n",
       "      <td>116309</td>\n",
       "      <td>360.0</td>\n",
       "      <td>116309</td>\n",
       "      <td>18</td>\n",
       "      <td>0.932642</td>\n",
       "      <td>151876.0</td>\n",
       "      <td>0.466321</td>\n",
       "      <td>465671</td>\n",
       "      <td>71003</td>\n",
       "    </tr>\n",
       "  </tbody>\n",
       "</table>\n",
       "<p>76136 rows × 14 columns</p>\n",
       "</div>"
      ],
      "text/plain": [
       "        adjusted_amountusd  approved_amountusd  total_amountusd  hmo_id  \\\n",
       "0                 7.772026           82.049663        89.821689       1   \n",
       "2                 2.331606          254.329461       256.661067       1   \n",
       "3                 2.331606          254.329461       256.661067       1   \n",
       "4                 2.331606          254.329461       256.661067       1   \n",
       "9                 7.772026           82.049663        89.821689       1   \n",
       "...                    ...                 ...              ...     ...   \n",
       "330188           11.865285            6.424870        18.290155       5   \n",
       "330189            7.370466            5.686528        13.056995       5   \n",
       "330190            5.233161            6.269430        11.502591       5   \n",
       "330191            5.233161            6.269430        11.502591       5   \n",
       "330192           11.865285            6.424870        18.290155       5   \n",
       "\n",
       "        provider_id  care_id  claim_items_amount  claim_items_care_id  \\\n",
       "0                 1       13              5000.0                   13   \n",
       "2                 1      177              2500.0                  177   \n",
       "3                 1      220               300.0                  220   \n",
       "4                 1      274              1500.0                  274   \n",
       "9                 1     1176             14400.0                 1176   \n",
       "...             ...      ...                 ...                  ...   \n",
       "330188          475    75952              1200.0                75952   \n",
       "330189          475   116309               240.0               116309   \n",
       "330190          475   116309               240.0               116309   \n",
       "330191          475   116309               240.0               116309   \n",
       "330192          475   116309               360.0               116309   \n",
       "\n",
       "        claim_items_qty  claim_items_amountusd  enrollee_id  \\\n",
       "0                     1              12.953368      41565.0   \n",
       "2                     1               6.476684      41620.0   \n",
       "3                     1               0.777202      41620.0   \n",
       "4                     1               3.886010      41620.0   \n",
       "9                     9              37.305699      41565.0   \n",
       "...                 ...                    ...          ...   \n",
       "330188                1               3.108808     151876.0   \n",
       "330189               12               0.621762     144310.0   \n",
       "330190               12               0.621762     148972.0   \n",
       "330191               12               0.621762     150375.0   \n",
       "330192               18               0.932642     151876.0   \n",
       "\n",
       "        claim_items_approved_amountusd  claim_items_id  claim_items_claim_id  \n",
       "0                            12.953368              66                    17  \n",
       "2                             6.476684             116                    31  \n",
       "3                             0.000000             118                    31  \n",
       "4                             3.886010             117                    31  \n",
       "9                            37.305699              70                    17  \n",
       "...                                ...             ...                   ...  \n",
       "330188                        2.072539          465672                 71003  \n",
       "330189                        0.310881          465628                 70995  \n",
       "330190                        0.310881          466968                 71233  \n",
       "330191                        0.310881          465827                 71034  \n",
       "330192                        0.466321          465671                 71003  \n",
       "\n",
       "[76136 rows x 14 columns]"
      ]
     },
     "execution_count": 265,
     "metadata": {},
     "output_type": "execute_result"
    }
   ],
   "source": [
    "dfad"
   ]
  },
  {
   "cell_type": "code",
   "execution_count": 266,
   "metadata": {},
   "outputs": [
    {
     "data": {
      "text/html": [
       "<div>\n",
       "<style scoped>\n",
       "    .dataframe tbody tr th:only-of-type {\n",
       "        vertical-align: middle;\n",
       "    }\n",
       "\n",
       "    .dataframe tbody tr th {\n",
       "        vertical-align: top;\n",
       "    }\n",
       "\n",
       "    .dataframe thead th {\n",
       "        text-align: right;\n",
       "    }\n",
       "</style>\n",
       "<table border=\"1\" class=\"dataframe\">\n",
       "  <thead>\n",
       "    <tr style=\"text-align: right;\">\n",
       "      <th></th>\n",
       "      <th>adjusted_amountusd</th>\n",
       "      <th>approved_amountusd</th>\n",
       "      <th>total_amountusd</th>\n",
       "      <th>hmo_id</th>\n",
       "      <th>provider_id</th>\n",
       "      <th>care_id</th>\n",
       "      <th>claim_items_amount</th>\n",
       "      <th>claim_items_care_id</th>\n",
       "      <th>claim_items_qty</th>\n",
       "      <th>claim_items_amountusd</th>\n",
       "      <th>enrollee_id</th>\n",
       "      <th>claim_items_approved_amountusd</th>\n",
       "      <th>claim_items_id</th>\n",
       "      <th>claim_items_claim_id</th>\n",
       "    </tr>\n",
       "  </thead>\n",
       "  <tbody>\n",
       "    <tr>\n",
       "      <th>count</th>\n",
       "      <td>76136.000000</td>\n",
       "      <td>76136.000000</td>\n",
       "      <td>76136.000000</td>\n",
       "      <td>76136.000000</td>\n",
       "      <td>76136.000000</td>\n",
       "      <td>76136.000000</td>\n",
       "      <td>7.613600e+04</td>\n",
       "      <td>76136.000000</td>\n",
       "      <td>76136.000000</td>\n",
       "      <td>76136.000000</td>\n",
       "      <td>76136.000000</td>\n",
       "      <td>76136.000000</td>\n",
       "      <td>76136.000000</td>\n",
       "      <td>76136.00000</td>\n",
       "    </tr>\n",
       "    <tr>\n",
       "      <th>mean</th>\n",
       "      <td>34.428944</td>\n",
       "      <td>154.382398</td>\n",
       "      <td>188.811342</td>\n",
       "      <td>1.188899</td>\n",
       "      <td>140.766300</td>\n",
       "      <td>24019.098613</td>\n",
       "      <td>4.804380e+03</td>\n",
       "      <td>24019.098613</td>\n",
       "      <td>13.022617</td>\n",
       "      <td>12.446581</td>\n",
       "      <td>96501.291636</td>\n",
       "      <td>8.860751</td>\n",
       "      <td>263942.791137</td>\n",
       "      <td>38216.72335</td>\n",
       "    </tr>\n",
       "    <tr>\n",
       "      <th>std</th>\n",
       "      <td>124.435773</td>\n",
       "      <td>574.993869</td>\n",
       "      <td>626.074723</td>\n",
       "      <td>0.664629</td>\n",
       "      <td>107.648083</td>\n",
       "      <td>23390.862072</td>\n",
       "      <td>2.575703e+04</td>\n",
       "      <td>23390.862072</td>\n",
       "      <td>105.786633</td>\n",
       "      <td>66.728053</td>\n",
       "      <td>32007.046587</td>\n",
       "      <td>45.197747</td>\n",
       "      <td>144159.438702</td>\n",
       "      <td>20778.65965</td>\n",
       "    </tr>\n",
       "    <tr>\n",
       "      <th>min</th>\n",
       "      <td>0.005181</td>\n",
       "      <td>0.000000</td>\n",
       "      <td>0.259067</td>\n",
       "      <td>1.000000</td>\n",
       "      <td>1.000000</td>\n",
       "      <td>7.000000</td>\n",
       "      <td>0.000000e+00</td>\n",
       "      <td>7.000000</td>\n",
       "      <td>-30.000000</td>\n",
       "      <td>0.000000</td>\n",
       "      <td>2.000000</td>\n",
       "      <td>0.000000</td>\n",
       "      <td>60.000000</td>\n",
       "      <td>15.00000</td>\n",
       "    </tr>\n",
       "    <tr>\n",
       "      <th>25%</th>\n",
       "      <td>2.590674</td>\n",
       "      <td>21.373057</td>\n",
       "      <td>29.715026</td>\n",
       "      <td>1.000000</td>\n",
       "      <td>75.000000</td>\n",
       "      <td>5702.000000</td>\n",
       "      <td>6.750000e+02</td>\n",
       "      <td>5702.000000</td>\n",
       "      <td>1.000000</td>\n",
       "      <td>1.748705</td>\n",
       "      <td>85882.000000</td>\n",
       "      <td>0.777202</td>\n",
       "      <td>124416.000000</td>\n",
       "      <td>18976.00000</td>\n",
       "    </tr>\n",
       "    <tr>\n",
       "      <th>50%</th>\n",
       "      <td>7.772021</td>\n",
       "      <td>47.810881</td>\n",
       "      <td>63.056995</td>\n",
       "      <td>1.000000</td>\n",
       "      <td>100.000000</td>\n",
       "      <td>18489.000000</td>\n",
       "      <td>1.500000e+03</td>\n",
       "      <td>18489.000000</td>\n",
       "      <td>2.000000</td>\n",
       "      <td>3.886010</td>\n",
       "      <td>108579.000000</td>\n",
       "      <td>2.901554</td>\n",
       "      <td>297376.000000</td>\n",
       "      <td>41967.00000</td>\n",
       "    </tr>\n",
       "    <tr>\n",
       "      <th>75%</th>\n",
       "      <td>22.538860</td>\n",
       "      <td>100.712435</td>\n",
       "      <td>124.987513</td>\n",
       "      <td>1.000000</td>\n",
       "      <td>188.000000</td>\n",
       "      <td>36322.750000</td>\n",
       "      <td>4.000000e+03</td>\n",
       "      <td>36322.750000</td>\n",
       "      <td>18.000000</td>\n",
       "      <td>10.362694</td>\n",
       "      <td>113197.000000</td>\n",
       "      <td>7.772021</td>\n",
       "      <td>392009.750000</td>\n",
       "      <td>56946.00000</td>\n",
       "    </tr>\n",
       "    <tr>\n",
       "      <th>max</th>\n",
       "      <td>3673.368135</td>\n",
       "      <td>10374.598446</td>\n",
       "      <td>10634.183938</td>\n",
       "      <td>5.000000</td>\n",
       "      <td>478.000000</td>\n",
       "      <td>140097.000000</td>\n",
       "      <td>2.500000e+06</td>\n",
       "      <td>140097.000000</td>\n",
       "      <td>12000.000000</td>\n",
       "      <td>6476.683938</td>\n",
       "      <td>162081.000000</td>\n",
       "      <td>6476.683938</td>\n",
       "      <td>475565.000000</td>\n",
       "      <td>72565.00000</td>\n",
       "    </tr>\n",
       "  </tbody>\n",
       "</table>\n",
       "</div>"
      ],
      "text/plain": [
       "       adjusted_amountusd  approved_amountusd  total_amountusd        hmo_id  \\\n",
       "count        76136.000000        76136.000000     76136.000000  76136.000000   \n",
       "mean            34.428944          154.382398       188.811342      1.188899   \n",
       "std            124.435773          574.993869       626.074723      0.664629   \n",
       "min              0.005181            0.000000         0.259067      1.000000   \n",
       "25%              2.590674           21.373057        29.715026      1.000000   \n",
       "50%              7.772021           47.810881        63.056995      1.000000   \n",
       "75%             22.538860          100.712435       124.987513      1.000000   \n",
       "max           3673.368135        10374.598446     10634.183938      5.000000   \n",
       "\n",
       "        provider_id        care_id  claim_items_amount  claim_items_care_id  \\\n",
       "count  76136.000000   76136.000000        7.613600e+04         76136.000000   \n",
       "mean     140.766300   24019.098613        4.804380e+03         24019.098613   \n",
       "std      107.648083   23390.862072        2.575703e+04         23390.862072   \n",
       "min        1.000000       7.000000        0.000000e+00             7.000000   \n",
       "25%       75.000000    5702.000000        6.750000e+02          5702.000000   \n",
       "50%      100.000000   18489.000000        1.500000e+03         18489.000000   \n",
       "75%      188.000000   36322.750000        4.000000e+03         36322.750000   \n",
       "max      478.000000  140097.000000        2.500000e+06        140097.000000   \n",
       "\n",
       "       claim_items_qty  claim_items_amountusd    enrollee_id  \\\n",
       "count     76136.000000           76136.000000   76136.000000   \n",
       "mean         13.022617              12.446581   96501.291636   \n",
       "std         105.786633              66.728053   32007.046587   \n",
       "min         -30.000000               0.000000       2.000000   \n",
       "25%           1.000000               1.748705   85882.000000   \n",
       "50%           2.000000               3.886010  108579.000000   \n",
       "75%          18.000000              10.362694  113197.000000   \n",
       "max       12000.000000            6476.683938  162081.000000   \n",
       "\n",
       "       claim_items_approved_amountusd  claim_items_id  claim_items_claim_id  \n",
       "count                    76136.000000    76136.000000           76136.00000  \n",
       "mean                         8.860751   263942.791137           38216.72335  \n",
       "std                         45.197747   144159.438702           20778.65965  \n",
       "min                          0.000000       60.000000              15.00000  \n",
       "25%                          0.777202   124416.000000           18976.00000  \n",
       "50%                          2.901554   297376.000000           41967.00000  \n",
       "75%                          7.772021   392009.750000           56946.00000  \n",
       "max                       6476.683938   475565.000000           72565.00000  "
      ]
     },
     "execution_count": 266,
     "metadata": {},
     "output_type": "execute_result"
    }
   ],
   "source": [
    "dfad.describe()"
   ]
  },
  {
   "cell_type": "code",
   "execution_count": 267,
   "metadata": {},
   "outputs": [
    {
     "data": {
      "text/plain": [
       "adjusted_amountusd                0\n",
       "approved_amountusd                0\n",
       "total_amountusd                   0\n",
       "hmo_id                            0\n",
       "provider_id                       0\n",
       "care_id                           0\n",
       "claim_items_amount                0\n",
       "claim_items_care_id               0\n",
       "claim_items_qty                   0\n",
       "claim_items_amountusd             0\n",
       "enrollee_id                       0\n",
       "claim_items_approved_amountusd    0\n",
       "claim_items_id                    0\n",
       "claim_items_claim_id              0\n",
       "dtype: int64"
      ]
     },
     "execution_count": 267,
     "metadata": {},
     "output_type": "execute_result"
    }
   ],
   "source": [
    "dfad.isna().sum()"
   ]
  },
  {
   "cell_type": "markdown",
   "metadata": {},
   "source": [
    "# Regression model"
   ]
  },
  {
   "cell_type": "code",
   "execution_count": 284,
   "metadata": {},
   "outputs": [],
   "source": [
    "y = dfad['approved_amountusd']"
   ]
  },
  {
   "cell_type": "code",
   "execution_count": 285,
   "metadata": {},
   "outputs": [],
   "source": [
    "X = dfad[[\"total_amountusd\",\"hmo_id\", \"provider_id\", \"claim_items_amount\", \"care_id\",\"claim_items_care_id\", \n",
    "         \"claim_items_qty\", \"claim_items_amountusd\", \"enrollee_id\",\"claim_items_approved_amountusd\", \n",
    "         \"claim_items_id\",\"claim_items_claim_id\"]]"
   ]
  },
  {
   "cell_type": "code",
   "execution_count": 286,
   "metadata": {},
   "outputs": [],
   "source": [
    "from sklearn.model_selection import train_test_split"
   ]
  },
  {
   "cell_type": "code",
   "execution_count": 287,
   "metadata": {},
   "outputs": [],
   "source": [
    "X_train, X_test, y_train, y_test = train_test_split(X, y, test_size=0.3, random_state=101)"
   ]
  },
  {
   "cell_type": "code",
   "execution_count": 288,
   "metadata": {},
   "outputs": [],
   "source": [
    "from sklearn.linear_model import LinearRegression"
   ]
  },
  {
   "cell_type": "code",
   "execution_count": 289,
   "metadata": {},
   "outputs": [],
   "source": [
    "lm = LinearRegression()"
   ]
  },
  {
   "cell_type": "code",
   "execution_count": 290,
   "metadata": {},
   "outputs": [
    {
     "data": {
      "text/plain": [
       "LinearRegression()"
      ]
     },
     "execution_count": 290,
     "metadata": {},
     "output_type": "execute_result"
    }
   ],
   "source": [
    "lm.fit(X_train,y_train)"
   ]
  },
  {
   "cell_type": "code",
   "execution_count": 291,
   "metadata": {},
   "outputs": [
    {
     "name": "stdout",
     "output_type": "stream",
     "text": [
      "Coefficients: \n",
      " [ 9.11549433e-01  5.56048972e+00  8.95433382e-02 -2.44504607e-03\n",
      " -8.27126385e-05 -8.27126386e-05 -6.41717356e-03 -6.33431590e-06\n",
      " -8.48103995e-05  1.02714556e+00 -1.82577719e-04  7.50349237e-04]\n"
     ]
    }
   ],
   "source": [
    "print('Coefficients: \\n', lm.coef_)"
   ]
  },
  {
   "cell_type": "code",
   "execution_count": 292,
   "metadata": {},
   "outputs": [],
   "source": [
    "predictions = lm.predict( X_test)"
   ]
  },
  {
   "cell_type": "code",
   "execution_count": 293,
   "metadata": {},
   "outputs": [
    {
     "data": {
      "text/plain": [
       "Text(0, 0.5, 'Predicted Y')"
      ]
     },
     "execution_count": 293,
     "metadata": {},
     "output_type": "execute_result"
    },
    {
     "data": {
      "image/png": "[encoded data removed]",
      "text/plain": [
       "<Figure size 432x288 with 1 Axes>"
      ]
     },
     "metadata": {},
     "output_type": "display_data"
    }
   ],
   "source": [
    "plt.scatter(y_test,predictions)\n",
    "plt.xlabel('Y Test')\n",
    "plt.ylabel('Predicted Y')"
   ]
  },
  {
   "cell_type": "code",
   "execution_count": 296,
   "metadata": {},
   "outputs": [
    {
     "name": "stdout",
     "output_type": "stream",
     "text": [
      "MAE: 29.455614146718645\n",
      "MSE: 10758.603263555575\n",
      "RMSE: 103.72368709005468\n"
     ]
    }
   ],
   "source": [
    "#Calculate these metrics by hand!\n",
    "from sklearn import metrics\n",
    "print('MAE:', metrics.mean_absolute_error(y_test, predictions))\n",
    "print('MSE:', metrics.mean_squared_error(y_test, predictions))\n",
    "print('RMSE:', np.sqrt(metrics.mean_squared_error(y_test, predictions)))"
   ]
  },
  {
   "cell_type": "code",
   "execution_count": 297,
   "metadata": {},
   "outputs": [
    {
     "data": {
      "text/plain": [
       "0.9662078924528568"
      ]
     },
     "execution_count": 297,
     "metadata": {},
     "output_type": "execute_result"
    }
   ],
   "source": [
    "#R-squared value for the regression model\n",
    "metrics.explained_variance_score(y_test, predictions)"
   ]
  },
  {
   "cell_type": "code",
   "execution_count": 300,
   "metadata": {},
   "outputs": [
    {
     "data": {
      "text/plain": [
       "(array([  10.,   25.,   42.,   53.,   18.,   16.,   36.,   17.,    8.,\n",
       "          28.,   26.,   34.,   38.,   46.,   51.,   64.,   87.,  131.,\n",
       "         136.,  172.,  259.,  378.,  501., 1043., 2613., 4914., 4322.,\n",
       "        3294., 2152., 1006.,  312.,  133.,   80.,   53.,   31.,   17.,\n",
       "          24.,   35.,   29.,   35.,   15.,   15.,   14.,   14.,   18.,\n",
       "          33.,   11.,   16.,    6.,    0.]),\n",
       " array([-200., -192., -184., -176., -168., -160., -152., -144., -136.,\n",
       "        -128., -120., -112., -104.,  -96.,  -88.,  -80.,  -72.,  -64.,\n",
       "         -56.,  -48.,  -40.,  -32.,  -24.,  -16.,   -8.,    0.,    8.,\n",
       "          16.,   24.,   32.,   40.,   48.,   56.,   64.,   72.,   80.,\n",
       "          88.,   96.,  104.,  112.,  120.,  128.,  136.,  144.,  152.,\n",
       "         160.,  168.,  176.,  184.,  192.,  200.]),\n",
       " <a list of 50 Patch objects>)"
      ]
     },
     "execution_count": 300,
     "metadata": {},
     "output_type": "execute_result"
    },
    {
     "data": {
      "image/png": "[encoded data removed]",
      "text/plain": [
       "<Figure size 432x288 with 1 Axes>"
      ]
     },
     "metadata": {},
     "output_type": "display_data"
    }
   ],
   "source": [
    "#Predction error plot \n",
    "plt.hist((y_test-predictions), bins = 50, range = [-200,200])"
   ]
  },
  {
   "cell_type": "code",
   "execution_count": 301,
   "metadata": {},
   "outputs": [
    {
     "data": {
      "text/html": [
       "<div>\n",
       "<style scoped>\n",
       "    .dataframe tbody tr th:only-of-type {\n",
       "        vertical-align: middle;\n",
       "    }\n",
       "\n",
       "    .dataframe tbody tr th {\n",
       "        vertical-align: top;\n",
       "    }\n",
       "\n",
       "    .dataframe thead th {\n",
       "        text-align: right;\n",
       "    }\n",
       "</style>\n",
       "<table border=\"1\" class=\"dataframe\">\n",
       "  <thead>\n",
       "    <tr style=\"text-align: right;\">\n",
       "      <th></th>\n",
       "      <th>Coeffecient</th>\n",
       "    </tr>\n",
       "  </thead>\n",
       "  <tbody>\n",
       "    <tr>\n",
       "      <th>total_amountusd</th>\n",
       "      <td>0.911549</td>\n",
       "    </tr>\n",
       "    <tr>\n",
       "      <th>hmo_id</th>\n",
       "      <td>5.560490</td>\n",
       "    </tr>\n",
       "    <tr>\n",
       "      <th>provider_id</th>\n",
       "      <td>0.089543</td>\n",
       "    </tr>\n",
       "    <tr>\n",
       "      <th>claim_items_amount</th>\n",
       "      <td>-0.002445</td>\n",
       "    </tr>\n",
       "    <tr>\n",
       "      <th>care_id</th>\n",
       "      <td>-0.000083</td>\n",
       "    </tr>\n",
       "    <tr>\n",
       "      <th>claim_items_care_id</th>\n",
       "      <td>-0.000083</td>\n",
       "    </tr>\n",
       "    <tr>\n",
       "      <th>claim_items_qty</th>\n",
       "      <td>-0.006417</td>\n",
       "    </tr>\n",
       "    <tr>\n",
       "      <th>claim_items_amountusd</th>\n",
       "      <td>-0.000006</td>\n",
       "    </tr>\n",
       "    <tr>\n",
       "      <th>enrollee_id</th>\n",
       "      <td>-0.000085</td>\n",
       "    </tr>\n",
       "    <tr>\n",
       "      <th>claim_items_approved_amountusd</th>\n",
       "      <td>1.027146</td>\n",
       "    </tr>\n",
       "    <tr>\n",
       "      <th>claim_items_id</th>\n",
       "      <td>-0.000183</td>\n",
       "    </tr>\n",
       "    <tr>\n",
       "      <th>claim_items_claim_id</th>\n",
       "      <td>0.000750</td>\n",
       "    </tr>\n",
       "  </tbody>\n",
       "</table>\n",
       "</div>"
      ],
      "text/plain": [
       "                                Coeffecient\n",
       "total_amountusd                    0.911549\n",
       "hmo_id                             5.560490\n",
       "provider_id                        0.089543\n",
       "claim_items_amount                -0.002445\n",
       "care_id                           -0.000083\n",
       "claim_items_care_id               -0.000083\n",
       "claim_items_qty                   -0.006417\n",
       "claim_items_amountusd             -0.000006\n",
       "enrollee_id                       -0.000085\n",
       "claim_items_approved_amountusd     1.027146\n",
       "claim_items_id                    -0.000183\n",
       "claim_items_claim_id               0.000750"
      ]
     },
     "execution_count": 301,
     "metadata": {},
     "output_type": "execute_result"
    }
   ],
   "source": [
    "coeffecients = pd.DataFrame(lm.coef_,X.columns)\n",
    "coeffecients.columns = ['Coeffecient']\n",
    "coeffecients"
   ]
  }
 ],
 "metadata": {
  "kernelspec": {
   "display_name": "Python 3",
   "language": "python",
   "name": "python3"
  },
  "language_info": {
   "codemirror_mode": {
    "name": "ipython",
    "version": 3
   },
   "file_extension": ".py",
   "mimetype": "text/x-python",
   "name": "python",
   "nbconvert_exporter": "python",
   "pygments_lexer": "ipython3",
   "version": "3.7.6"
  }
 },
 "nbformat": 4,
 "nbformat_minor": 4
}
